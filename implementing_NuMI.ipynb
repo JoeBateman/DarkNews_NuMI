{
 "cells": [
  {
   "cell_type": "markdown",
   "metadata": {},
   "source": [
    "# Getting from the DarkNews generator to the detector geometry"
   ]
  },
  {
   "cell_type": "code",
   "execution_count": 1,
   "metadata": {},
   "outputs": [],
   "source": [
    "from DarkNews import const\n",
    "from DarkNews import Cfourvec as Cfv\n",
    "import DarkNews as dn\n",
    "from DarkNews import GenLauncher\n",
    "import importlib.resources as resources\n",
    "import matplotlib.pyplot as plt\n",
    "import plotly as plotly\n",
    "import numpy as np\n",
    "from numpy.random import choice\n",
    "import pandas as pd\n",
    "import plotly.express as px\n",
    "from plotly.graph_objects import Layout\n",
    "import uproot\n",
    "\n",
    "# import geometry_functions  as gf\n",
    "# Set the source directory, where flux and other files are stored (and cannot be hosted \n",
    "# on Github). The path on /exp/uboone/app should be accessible to uBooNE users. \n",
    "source_dir = \"./source/\""
   ]
  },
  {
   "cell_type": "markdown",
   "metadata": {},
   "source": [
    "## Defining the NuMI geometry and parameters"
   ]
  },
  {
   "cell_type": "code",
   "execution_count": 2,
   "metadata": {},
   "outputs": [],
   "source": [
    "# Defining NuMI beam parameters in cm\n",
    "NuMI_decay_pipe_radius = 1e2 # cm, from https://ar5iv.labs.arxiv.org/html/1507.06690\n",
    "NuMI_decay_pipe_length = 675e2 # cm, from https://ar5iv.labs.arxiv.org/html/1507.06690\n",
    "NuMI_full_length = 10e2 + 30e2 + NuMI_decay_pipe_length + 2.5e2 # cm, corresponding to 10m horn 1, 30m horn 2, 675m decay pipe, 2.5m absorber\n",
    "\n",
    "NuMI_target = [0,0,0]\n",
    "NuMI_absorber = [0,0, NuMI_full_length]\n",
    "\n",
    "# Timing offsets defined in uboone docdb 12290\n",
    "uBNuMIGlobalTimeOffset = 4687.5\n",
    "uBNuMIRandomTimeOffset = 9600\n",
    "\n",
    "# Matrix to convert from NuMI beam cooridinates to the uBooNE detector coordinates\n",
    "numi_coord_matrix =    np.array([\n",
    "                        [ 0.9210385380402568, 0.0227135048039241207, 0.38880857519374290 ],\n",
    "\t                    [0.0000462540012621546684, 0.99829162468141475, -0.0584279894529063024],\n",
    "                        [-0.38947144863934974, 0.0538324139386641073, 0.91946400794392302 ]\n",
    "                        ])\n",
    "\n",
    "def convert_to_numi_beam_coords(x):\n",
    "    matrix = np.linalg.inv(numi_coord_matrix)\n",
    "    x = np.array(x)\n",
    "    x = np.matmul(matrix,x.T).T\n",
    "    x += ub_beam_coords\n",
    "    return x\n",
    "\n",
    "def convert_to_ub_tpc_coords(x):\n",
    "    x = np.array(x)\n",
    "    x -= ub_beam_coords\n",
    "    x = np.matmul(numi_coord_matrix,x.T).T\n",
    "    return x\n",
    "\n",
    "# Position of the uBooNE detector in NuMI beam coordinates\n",
    "ub_beam_coords = np.array([5502, 7259, 67270]) # cm\n",
    "\n",
    "# Timing offsets defined in uboone docdb 12290\n",
    "uBNuMIGlobalTimeOffset = 4687.5\n",
    "uBNuMIRandomTimeOffset = 9600\n",
    "\n",
    "# Importing NuMI flux files\n",
    "# Energy vs baseline distribution\n",
    "NuMI_energies_positions = np.genfromtxt(source_dir+'Fluxes/NuMI_energy_distances.dat', delimiter=' ', skip_header=0)\n",
    "NuMI_energy_nu = NuMI_energies_positions[1:,0]\n",
    "NuMI_distances_nu = NuMI_energies_positions[0,1:]\n",
    "NuMI_e_vs_dist = NuMI_energies_positions[1:,1:]\n",
    "NuMI_enu_max = np.max(NuMI_energy_nu)\n",
    "# Angle-energy flux normalization\n",
    "NuMI_fluxes = np.genfromtxt(source_dir+'Fluxes/NuMI_angle_energy_normalization.dat', delimiter=' ', skip_header=0)\n",
    "NuMI_e_bins_angle = NuMI_fluxes[1:,0]\n",
    "NuMI_th_bins_angle = NuMI_fluxes[0,1:]\n",
    "NuMI_e_vs_angle = NuMI_fluxes[1:,1:]\n",
    "# Neutrino angle (from NuMI beam) distribution\n",
    "NuMI_angle_dist = np.genfromtxt(source_dir+'Fluxes/NuMI_angle_flux.dat', delimiter=' ', skip_header=0)\n",
    "NuMI_angle_bins = NuMI_angle_dist[0,:]\n",
    "NuMI_angle_dist = NuMI_angle_dist[1,:]\n",
    "\n",
    "angle_flux_min = minval = np.min(NuMI_angle_dist[np.nonzero(NuMI_angle_dist)])\n",
    "NuMI_angle_dist = NuMI_angle_dist / angle_flux_min\n",
    "\n",
    "file_run0 = uproot.open(source_dir+'Root/output_uboone_fhc_run0_set1.root')\n",
    "base_line_hist = file_run0['numu/Detsmear/Baseline_numu_CV_TPC;1']\n",
    "baseline_hist, baseline_bins = base_line_hist.to_numpy()"
   ]
  },
  {
   "cell_type": "markdown",
   "metadata": {},
   "source": [
    "## Defining the MicroBooNE/NuMI geometry\n",
    "\n",
    "This follows the implementation in dn.geom for the MicroBooNE cryostat"
   ]
  },
  {
   "cell_type": "code",
   "execution_count": 3,
   "metadata": {},
   "outputs": [],
   "source": [
    "# These functions are taken from the DarkNews repo, and adapted where necessary.\n",
    "# https://github.com/mhostert/DarkNews-generator\n",
    "################## ROTATION FUNCTIONS ######################\n",
    "def dot3(p1, p2):\n",
    "    return p1[0]*p2[0] + p1[1]*p2[1] + p1[2]*p2[2]\n",
    "\n",
    "def normalize_3D_vec(v):\n",
    "    return v / np.sqrt(dot3(v,v))\n",
    "\n",
    "def cross3(p1, p2):\n",
    "    px = p1[1]*p2[2] - p1[2]*p2[1]\n",
    "    py = p1[2]*p2[0] - p1[0]*p2[2]\n",
    "    pz = p1[0]*p2[1] - p1[1]*p2[0]\n",
    "    return np.array([px,py,pz])\n",
    "\n",
    "# rotate v by an angle of theta on the plane perpendicular to k using Rodrigues' rotation formula\n",
    "def rotate_by_theta(v,k,theta):\n",
    "    # we first normalize k\n",
    "    k = normalize_3D_vec(k)\n",
    "    \n",
    "    # Rodrigues' rotation formula\n",
    "    return np.cos(theta) * v + np.sin(theta) * cross3(k,v) + dot3(k,v) * (1 - np.cos(theta)) * k\n",
    "\n",
    "\n",
    "# rotate a 3D-vector v using the same minimum rotation to take vector a into vector b\n",
    "def rotate_similar_to(v,a,b):\n",
    "    # normalize vectors a and b\n",
    "    a = normalize_3D_vec(a)\n",
    "    b = normalize_3D_vec(b)\n",
    "    \n",
    "    # compute normal vector to those and angle\n",
    "    k = cross3(a,b)\n",
    "    theta = np.arccos(dot3(a,b))\n",
    "    \n",
    "    # use previous function to compute new vector\n",
    "    return rotate_by_theta(v,k,theta)\n",
    "\n",
    "def rotate_dataframe(df):\n",
    "    particles = ['P_target','P_recoil','P_decay_N_parent','P_decay_ell_plus','P_decay_ell_minus','P_decay_N_daughter','P_decay_photon','P_projectile']\n",
    "\n",
    "    for particle in particles:\n",
    "        try:\n",
    "            df.loc[:,(particle,['1','2','3'])] = rotate_similar_to(df[particle].to_numpy().T[1:],df.P_projectile.to_numpy().T[1:],df.pos_scatt.to_numpy().T[1:] - df['pos_prod'].to_numpy().T).T\n",
    "        except:\n",
    "            continue\n",
    "\n",
    "    return df\n",
    "\n",
    "def nearest_point_to_ub(scatt_pos):\n",
    "\n",
    "    beam_vec = np.subtract(NuMI_absorber, NuMI_target)\n",
    "    beam_hat = beam_vec / np.linalg.norm(beam_vec)\n",
    "\n",
    "    BNB_vec = np.array([[0,0,0],[0,0,1]])\n",
    "    BNB_vec = convert_to_numi_beam_coords(BNB_vec)\n",
    "    BNB_vec = np.subtract(BNB_vec[1], BNB_vec[0])\n",
    "\n",
    "    # Get the point on the beam closest to the scattering point\n",
    "    p1_vec = scatt_pos - NuMI_target\n",
    "    p1_len = np.linalg.norm(p1_vec)\n",
    "    p1_hat = p1_vec / p1_len\n",
    "\n",
    "    cos_theta = np.dot(p1_hat, beam_hat)\n",
    "    scale = cos_theta * p1_len\n",
    "    scale = np.tile(scale, (3,1)).T\n",
    "\n",
    "    return (beam_hat * scale)\n",
    "\n",
    "\n",
    "def neutrino_nan(E_nu):\n",
    "    final_angles = []\n",
    "    for i in range(len(E_nu)):\n",
    "        e_bins = np.searchsorted(NuMI_e_bins_angle, E_nu[i], side='right')-1\n",
    "        probs_angle = np.ones_like(NuMI_e_vs_angle)\n",
    "\n",
    "        for j in range(np.shape((probs_angle))[1]):\n",
    "            arr = np.asarray([NuMI_e_vs_angle.T[:,e_bins]])\n",
    "            if arr.sum() != 0:\n",
    "                probs_angle[j] = arr\n",
    "        neutrino_angle = choice(NuMI_th_bins_angle, 1, p=probs_angle[e_bins] / probs_angle[e_bins].sum())[0]\n",
    "        final_angles.append(neutrino_angle)\n",
    "    return final_angles\n",
    "\n",
    "def neutrino_random(angle,E_nu):\n",
    "    e_bins = np.searchsorted(NuMI_e_bins_angle, E_nu, side='right')-1\n",
    "    angle_hist = NuMI_e_vs_angle.T[:,e_bins]\n",
    "\n",
    "    th_bin_1 = np.searchsorted(NuMI_angle_bins, angle, side='right')-1\n",
    "    th_bin_2 = np.searchsorted(NuMI_angle_bins, 180-angle, side='right')-1\n",
    "\n",
    "    th_arr = []\n",
    "    weight_arr = []\n",
    "    \n",
    "    search_range = 9\n",
    "    offset = search_range//2 +1\n",
    "    for j in range(search_range):\n",
    "        th_arr.append(NuMI_angle_bins[th_bin_1 +j - 4])\n",
    "        th_arr.append(NuMI_angle_bins[th_bin_2 +j - 4])\n",
    "        \n",
    "        weight_arr.append(NuMI_angle_dist[th_bin_1 +j - 4])\n",
    "        weight_arr.append(NuMI_angle_dist[th_bin_2 +j - 4])\n",
    "\n",
    "    th_arr = np.array(th_arr).T\n",
    "    weight_arr = np.array(weight_arr).T\n",
    "\n",
    "    sum = np.sum(weight_arr, axis=1)\n",
    "    sum = np.tile(sum, (2*search_range, 1)).T\n",
    "    weights = np.array(weight_arr) / sum\n",
    "\n",
    "    if np.isnan(weights).any():\n",
    "        print(weights)\n",
    "    else: print('success')\n",
    "\n",
    "    th_arr = np.array(th_arr)\n",
    "    return  [choice(th_arr[i], 1, p=weights[i])[0] for i in range(len(E_nu))]\n",
    "\n",
    "def neutrino_nan_random_split(angle, E_nu):\n",
    "    return np.where(np.isnan(angle) == True, neutrino_nan(E_nu), neutrino_random(angle, E_nu))\n",
    "\n",
    "\n",
    "def get_neutrino_angle(scatt_pos, length, E_nu):\n",
    "\n",
    "    scatt_pos = convert_to_numi_beam_coords(scatt_pos)\n",
    "    nearest_point = nearest_point_to_ub(scatt_pos)\n",
    "    \n",
    "    dist = np.linalg.norm(scatt_pos - nearest_point, axis=1)\n",
    "\n",
    "    sin_theta = dist/length\n",
    "\n",
    "    theta = np.arcsin(sin_theta)\n",
    "    theta = np.rad2deg(theta)\n",
    "\n",
    "    limit_absorber = np.linalg.norm(scatt_pos - NuMI_absorber, axis=1)\n",
    "\n",
    "    angle_limit_absorber = np.arcsin(np.linalg.norm(scatt_pos - nearest_point, axis=1)/limit_absorber)\n",
    "    angle_limit_absorber = np.rad2deg(angle_limit_absorber) - 15\n",
    "\n",
    "    limit_target = np.linalg.norm(scatt_pos - NuMI_target, axis=1)\n",
    "    angle_limit_target = np.arcsin(np.linalg.norm(scatt_pos - nearest_point, axis=1)/limit_target)\n",
    "    angle_limit_target = np.rad2deg(angle_limit_target)\n",
    "\n",
    "    final_angles = []\n",
    "\n",
    "    n_nan = 0\n",
    "    n_random = 0\n",
    "    n_intended = 0\n",
    "\n",
    "    w1 = []\n",
    "    w2 = []\n",
    "\n",
    "    angle_1 = []\n",
    "    angle_2 = []\n",
    "\n",
    "    for i, angle in enumerate(theta):\n",
    "\n",
    "        if angle < angle_limit_absorber[i]:\n",
    "            final_angles.append(angle)\n",
    "            n_intended += 1\n",
    "        elif np.isnan(angle) == True:\n",
    "            # Sampling the neutrino angle given the energy\n",
    "            n_Ebins = 100\n",
    "            e_bins = np.searchsorted(NuMI_e_bins_angle, E_nu[i], side='right')-1\n",
    "            probs_angle = np.ones_like(NuMI_e_vs_angle)\n",
    "\n",
    "            for j in range(np.shape((probs_angle))[1]):\n",
    "                arr = np.asarray([NuMI_e_vs_angle.T[:,e_bins]])\n",
    "                if arr.sum() != 0:\n",
    "                    probs_angle[j] = arr\n",
    "            neutrino_angle = choice(NuMI_th_bins_angle, 1, p=probs_angle[e_bins] / probs_angle[e_bins].sum())[0]\n",
    "            final_angles.append(neutrino_angle)\n",
    "            n_nan += 1\n",
    "        else:\n",
    "            e_bins = np.searchsorted(NuMI_e_bins_angle, E_nu[i], side='right')-1\n",
    "            angle_hist = NuMI_e_vs_angle.T[:,e_bins]\n",
    "\n",
    "            th_bin_1 = np.searchsorted(NuMI_angle_bins, angle, side='right')-1\n",
    "            th_bin_2 = np.searchsorted(NuMI_angle_bins, 180-angle, side='right')-1\n",
    "\n",
    "            th_arr = []\n",
    "            weight_arr = []\n",
    "            \n",
    "            search_range = 5\n",
    "            offset = search_range//2 +1\n",
    "\n",
    "            for j in range(search_range):\n",
    "                th_arr.append(NuMI_angle_bins[th_bin_1 +j - 4])\n",
    "                th_arr.append(NuMI_angle_bins[th_bin_2 +j - 4])\n",
    "                \n",
    "                weight_arr.append(NuMI_angle_dist[th_bin_1 +j - 4])\n",
    "                weight_arr.append(NuMI_angle_dist[th_bin_2 +j - 4])\n",
    "\n",
    "            sum = np.sum(weight_arr)\n",
    "            weights = np.array(weight_arr)/sum\n",
    "\n",
    "            final_angles.append(choice(th_arr, 1, p=weights)[0])\n",
    "            n_random += 1\n",
    "\n",
    "    print(f'Intended: {n_intended}, Random: {n_random}, NaN: {n_nan}')\n",
    "\n",
    "    x = dist / np.tan(np.deg2rad(final_angles))\n",
    "\n",
    "    beam_hat = [0,0,1]\n",
    "    x_pos = nearest_point - x[:,np.newaxis] * beam_hat\n",
    "\n",
    "    return final_angles, x_pos\n",
    "\n",
    "def microboone_NuMI_geometry(df):\n",
    "\n",
    "    length_events = len(df.index)\n",
    "    nsamples = len(df.index)\n",
    "\n",
    "    detector_box = np.array([[-200, 200], [-200, 200], [-800, 800]])\n",
    "\n",
    "    tries = 0\n",
    "    npoints = 0\n",
    "    events = np.array(3 * [[]])\n",
    "    while npoints < nsamples:\n",
    "\n",
    "        new_detector = dn.geom.Chisel(nsamples=nsamples, box=detector_box)\n",
    "        new_events = new_detector.events[:, new_detector.microboone_cryostat()]\n",
    "        events = np.concatenate((events, new_events), axis=1)\n",
    "\n",
    "        npoints += np.shape(new_events)[1]\n",
    "        tries += nsamples\n",
    "        if tries > 1e3 * nsamples:\n",
    "            raise ValueError(\"Geometry sampled too inefficiently. Wrong setup?\")\n",
    "\n",
    "    # Parameters from Mark -- neutrino time spill, overlapping w Genie BNB\n",
    "    time = uBNuMIGlobalTimeOffset + (uBNuMIRandomTimeOffset) * np.random.rand(nsamples)\n",
    "\n",
    "    # guarantee that array has number of samples asked (nsamples)\n",
    "    df[\"pos_scatt\", \"0\"] = time\n",
    "    df[\"pos_scatt\", \"1\"] = events[0, :nsamples]\n",
    "    df[\"pos_scatt\", \"2\"] = events[1, :nsamples]\n",
    "    df[\"pos_scatt\", \"3\"] = events[2, :nsamples]\n",
    "    \n",
    "    # Sampling the distance given the energy\n",
    "    n_Lbins =  len(NuMI_distances_nu)\n",
    "    E_nu = df[\"P_projectile\",\"0\"].values\n",
    "    e_bins = np.searchsorted(NuMI_energy_nu, E_nu, side='right')-1\n",
    "\n",
    "    bin_width = np.diff(NuMI_energy_nu)\n",
    "    probs_distance = np.ones_like(NuMI_e_vs_dist)\n",
    "\n",
    "    for i in range(np.shape((probs_distance))[0]):\n",
    "        arr = np.asarray([NuMI_e_vs_dist.T[:,e_bins[i]]])\n",
    "        if arr.sum() != 0:\n",
    "            probs_distance[i] = arr\n",
    "    \n",
    "    diffs = np.diff(NuMI_distances_nu)\n",
    "    diffs = np.append(diffs, diffs[-1])\n",
    "    # Assuming distances are uniformly distributed within the bin, we distribute them across the bin.\n",
    "    distances = np.array([choice(NuMI_distances_nu, 1, p=probs_distance[e_bins[i]] / probs_distance[e_bins[i]].sum())[0] + np.random.random()*diffs[e_bins[i]]-diffs[e_bins[i]]/2  for i in range(nsamples)])*1e2\n",
    "\n",
    "    df['distance'] = distances\n",
    "    \n",
    "    # Calculating the production point, given distance\n",
    "\n",
    "    scatt_pos = np.array([df['pos_scatt', '1'].to_numpy(), df['pos_scatt', '2'].to_numpy(), df['pos_scatt', '3'].to_numpy()]).T\n",
    "\n",
    "    neutrino_angle, prod_pos = get_neutrino_angle(scatt_pos, distances, df['P_projectile','0'].to_numpy())\n",
    "    prod_pos = convert_to_ub_tpc_coords(prod_pos)\n",
    "    \n",
    "    df[\"pos_prod\", \"1\"] = prod_pos[:,0]\n",
    "    df[\"pos_prod\", \"2\"] = prod_pos[:,1]\n",
    "    df[\"pos_prod\", \"3\"] = prod_pos[:,2]    \n",
    "    df['neutrino_angle'] = neutrino_angle\n",
    "    \n",
    "    # RESCALE WEIGHTS\n",
    "    # rescale the weights with respect to the distance\n",
    "    # l_baseline_muB - origin is the distance from the horn to the production point\n",
    "    # try using NuMI_decay_pipe_length - beamline_intersection[:,2] instead ???\n",
    "    \n",
    "    # distance_weight = ((NuMI_full_length - prod_point[:,2]) / baseline)**2\n",
    "    numi_vector = np.array([[0,0,0] , [0,0,NuMI_full_length]])\n",
    "    numi_vector = convert_to_ub_tpc_coords(numi_vector)\n",
    "    numi_vector = np.subtract(numi_vector[1], numi_vector[0])\n",
    "    decay_pipe_dist = np.linalg.norm(numi_vector)\n",
    "    distance_weight  = (decay_pipe_dist / distances)**2\n",
    "\n",
    "    df['distance_weight'] = distance_weight\n",
    "\n",
    "    df.w_event_rate *= distance_weight\n",
    "\n",
    "    # rescaling with respect to angle\n",
    "    # # Not sure this is the correct angle distribution???, dont see the 20 or 120 deg peaks    \n",
    "    # e_bins = np.searchsorted(NuMI_e_bins_angle, E_nu, side='right')-1\n",
    "    # n_ebins = len(NuMI_fluxes[0])\n",
    "    # if (n_ebins in e_bins):\n",
    "    #     mask = e_bins >= n_ebins\n",
    "    #     e_bins[mask] = n_ebins - 1\n",
    "    \n",
    "    # th_bins = np.searchsorted(NuMI_th_bins_angle, neutrino_angle, side='right')-1\n",
    "    # n_thbins = len(NuMI_fluxes[:,0])\n",
    "    # if (n_thbins in th_bins):\n",
    "    #     mask = th_bins >= n_thbins\n",
    "    #     th_bins[mask] = n_thbins - 1\n",
    "    \n",
    "    # renorm_flux_angle = np.array([NuMI_fluxes[e_bins[i],th_bins[i]] for i in range(length_events)])/NuMI_fluxes.sum()\n",
    "    # df['angle_weight'] = renorm_flux_angle*100\n",
    "    # df.w_event_rate *= renorm_flux_angle\n",
    "\n",
    "    # rotate momenta\n",
    "    df = rotate_dataframe(df)"
   ]
  },
  {
   "cell_type": "markdown",
   "metadata": {},
   "source": [
    "## Simulating some dark neutrinos"
   ]
  },
  {
   "cell_type": "code",
   "execution_count": 4,
   "metadata": {},
   "outputs": [
    {
     "name": "stdout",
     "output_type": "stream",
     "text": [
      "Directory tree for this run already exists. Overriding it.\n",
      "WARNING: HEPevt is not a lossless format -- you will lose the event weights. If you want to force-print weights, use the hepevt_legacy format instead. Otherwise, please set hep_unweight=True and set the desired number of unweighted events.\n",
      "WARNING::WriterHEPEVT::WriterHEPEVT: HEPEVT format is outdated. Please use HepMC3 format instead.\n"
     ]
    }
   ],
   "source": [
    "kwargs_numi = {  \n",
    "        'neval': 1e3,\n",
    "        'HNLtype': 'dirac',\n",
    "        # Parameters to set output filetype\n",
    "        # Don't use this yet, as the geometry is not configured until later\n",
    "        'hepmc3': False,\n",
    "        'hepevt': True,\n",
    "        'unweighted_hep_events': 100,\n",
    "        'hep_unweight': False,\n",
    "        \n",
    "        'experiment': './experiment_configs/microboone_tpc_numi_fhc.txt',\n",
    "        'nopelastic': True,\n",
    "        'pandas': False,\n",
    "        'loglevel': 'WARNING'\n",
    "        }\n",
    "gen_object = GenLauncher(mzprime=0.030, m4=0.150, **kwargs_numi)\n",
    "gen_object.run(overwrite_path='./output_files/NuMI')\n",
    "numi_df = gen_object.df"
   ]
  },
  {
   "cell_type": "code",
   "execution_count": 5,
   "metadata": {},
   "outputs": [
    {
     "name": "stdout",
     "output_type": "stream",
     "text": [
      "Intended: 1845, Random: 26, NaN: 1\n"
     ]
    },
    {
     "name": "stderr",
     "output_type": "stream",
     "text": [
      "/var/folders/wr/yb1fjkjn1mbg644j5v7f2tlm0000gp/T/ipykernel_70560/2280903535.py:130: RuntimeWarning: invalid value encountered in arcsin\n",
      "  theta = np.arcsin(sin_theta)\n"
     ]
    }
   ],
   "source": [
    "df  = numi_df.copy()\n",
    "microboone_NuMI_geometry(df)"
   ]
  },
  {
   "cell_type": "code",
   "execution_count": 9,
   "metadata": {},
   "outputs": [],
   "source": [
    "def plot_decays_scatter(df, skip = 10, beam = 'NuMI'):\n",
    "    fig = px.scatter_3d(x=df[\"pos_prod\", \"1\"][::skip],y=df[\"pos_prod\", \"3\"][::skip], z=df[\"pos_prod\", \"2\"][::skip], color=df[\"w_event_rate\"][::skip])\n",
    "    fig.add_scatter3d(x=df[\"pos_scatt\", \"1\"][::skip],y=df[\"pos_scatt\", \"3\"][::skip], z=df[\"pos_scatt\", \"2\"][::skip], mode='markers',name='Scatter Point')\n",
    "    if beam == 'NuMI':\n",
    "        target_coords = convert_to_ub_tpc_coords([[0,0,0]])[0]\n",
    "        absorber_coords = convert_to_ub_tpc_coords([[0,0,NuMI_full_length]])[0]\n",
    "        fig.add_scatter3d(x=[target_coords[0]],y=[target_coords[2]], z=[target_coords[1]], mode='markers',name='Beam Origin')\n",
    "        fig.add_scatter3d(x=[absorber_coords[0]],y=[absorber_coords[2]], z=[absorber_coords[1]], mode='markers',name='Absorber')\n",
    "    elif beam == 'BNB':\n",
    "        l_baseline_muB = 470e2\n",
    "        target_coords = [0,0,-l_baseline_muB]\n",
    "        fig.add_scatter3d(x=[target_coords[0]],y=[target_coords[2]], z=[target_coords[1]], mode='markers',name='Beam Origin')\n",
    "    fig.show()\n",
    "    return None"
   ]
  },
  {
   "cell_type": "markdown",
   "metadata": {},
   "source": [
    "## Plotting the decay and scatter point"
   ]
  },
  {
   "cell_type": "code",
   "execution_count": 23,
   "metadata": {},
   "outputs": [
    {
     "data": {
      "application/vnd.plotly.v1+json": {
       "config": {
        "plotlyServerURL": "https://plot.ly"
       },
       "data": [
        {
         "hovertemplate": "x=%{x}<br>y=%{y}<br>z=%{z}<br>color=%{marker.color}<extra></extra>",
         "legendgroup": "",
         "marker": {
          "color": [
           0.01535361945348801,
           0.03668290061823635,
           0.0032663251504235404,
           0.025087576154090137,
           0.014438438498766231,
           0.4343379081516426,
           430.43835614626,
           353.7392541590553,
           505.60258365864865,
           0.016155318393058525,
           779.676477521492,
           248.8970289627204,
           188.14047744512584,
           1037.8550367527896,
           0.021363980943840188,
           181.52905898082196,
           286.83770438797825,
           559.3578745096786,
           13208.685772355548,
           0.04079334859734823,
           0.03798194880183385,
           0.011146850475262033,
           0.027550951468489,
           130.31874872010425,
           1352.085718186953,
           0.13727605926625394,
           246.52076064311606,
           322.93318377262847,
           162.2132182162533,
           0.010253138112290344,
           0.015860878169815074,
           0.01780715333861511,
           554.1668148301887,
           0.038095574761331095,
           9.442925576452955e-16,
           462.53170797334894,
           0.0463244123920286,
           571.7956687438706,
           599.9370373209207,
           0.0320136716848219,
           348.3566721800697,
           904.380373171609,
           390.1111697513426,
           102.33204250612694,
           599.5573759559861,
           0.018578182969485414,
           553.2683168337669,
           61.96483912938769,
           0.01659409861529073,
           0.02187171502267884,
           67.61238332157139,
           95.35422378173169,
           213.40415690291306,
           0.009877598924179666,
           0.014336017232396518,
           0.024797964572937984,
           191.01702098287467,
           0.051780125846857955,
           0.014726636388151205,
           0.0157501547275566,
           478.76615493436714,
           0.010247018576079724,
           0.011010921623183298,
           1739.1811612598535,
           0.11801994619383484,
           647.1265277321521,
           0.01920163982019573,
           451.81258351981216,
           9015.36332398702,
           626.5009374363011,
           0.10920235458423343,
           266.0948083762902,
           895.534600000486,
           691.8886368829322,
           0.04077946896797243,
           568.6736981113256,
           662.745864594348,
           0.017664489498578566,
           296.0555788930086,
           0.017379335233699243,
           0.016570996896289502,
           0.01955149438383678,
           106.31862918408369,
           996.8422888470145,
           0.02311758476273928,
           186.0620488139043,
           0.02620559262110207,
           264.8055888209166,
           0.014367189916197523,
           0.02339428243627317,
           0.016036987113246987,
           396.47329228869904,
           21.671764384743355,
           0.026938480963397664,
           0.011057524655569844,
           0.0031364197192809275,
           523.8916442118293,
           0.03011908025219685,
           0.05115800752732734,
           963.8922406061379,
           797.8723568157236,
           0.02428164964155718,
           0.035071034726549724,
           0.020440036543186577,
           0.06454989454631103,
           37.75479176404884,
           421.5212559667657,
           0.029571705392244158,
           122.32841257696182,
           930.3751716607085,
           1101.7265802433026,
           761.388276034858,
           8.42983254368007e-8,
           0.03860381979920806,
           0.16687046294602634,
           0.03452543099536083,
           0.026372209035643152,
           504.934896149825,
           0.00477815397533419,
           0.05955921239034004,
           0.0175338873148943,
           0.03410192279103957,
           0.01110781548686474,
           0.025960283324496323,
           315.3782132981922,
           0.04338605875351489,
           0.046592842541947926,
           0.021185778202891095,
           10693.58681301011,
           0.24984834773930978,
           363.1188638439896,
           148.35990201617662,
           521.3133197749067,
           0.00415778876762653,
           0.017040011495240395,
           0.016205312169192552,
           0.01650664549262192,
           0.008462203590795565,
           0.017752297780312523,
           0.08446567287775443,
           0.04204599169300519,
           0.040807844977561,
           0.734822784495387,
           0.014796801122055565,
           335.95298192167564,
           0.04317618007767562,
           0.022350805662692316,
           2.2276889947108495e-17,
           5.142062305362526e-7,
           0.5578596754768104,
           0.03289739989321096,
           505.8484186224214,
           530.9516694046962,
           0.019073264450962257,
           655.31434330709,
           249.16860218359722,
           5363.8283090608475,
           0.01713267243850928,
           567.5866472868477,
           307.88804590999877,
           0.01809493562829693,
           132.95928299157512,
           0.026098083475464776,
           0.02104308702785022,
           181.0209730908661,
           508.7101637132172,
           579.8002073523412,
           0.059744214151181176,
           386.75802932892697,
           217.8255788823657,
           260.0481088385659,
           249.43838492434614,
           0.14563498606078698,
           0.0000017607634505265234,
           0.042694491678894345,
           0.027066777999537724,
           0.07701419152299963,
           556.9992304810299,
           0.04392554857437399,
           527.9306580243756,
           735.816814258077,
           0.09446794746765726,
           0.017535344475639883,
           741.7729952428786,
           515.5425279420814,
           0.011319490302982956,
           0.047587316014465045,
           648.5516503811414
          ],
          "coloraxis": "coloraxis",
          "symbol": "circle"
         },
         "mode": "markers",
         "name": "",
         "scene": "scene",
         "showlegend": false,
         "type": "scatter3d",
         "x": [
          -30899.185754933656,
          -31026.87508598713,
          -30891.886462099817,
          -30750.34991253937,
          -31197.096602810605,
          -7279.849092039809,
          -31339.879399496273,
          -30467.942915877386,
          -31158.756067060167,
          -31561.356999447045,
          -31102.482114114824,
          -31468.930477521888,
          -30048.768652666153,
          -31222.618434140095,
          -26463.928347466193,
          -31482.858032659547,
          -31313.031064050698,
          -31475.868032951705,
          -3049.7310197974844,
          -28949.070500154532,
          -23160.191928927532,
          -30801.375308324157,
          -30363.932990599656,
          -31029.47220105162,
          -30270.315262654643,
          -21650.026872121856,
          -31343.842778052836,
          -31163.029728585923,
          -31289.587035379216,
          -31234.620323029954,
          -31514.387510317687,
          -31305.729894492608,
          -30792.385035501782,
          -31514.50856976003,
          -31418.49202050446,
          -31338.529436561763,
          -31260.325833658353,
          -31092.067826980627,
          -31027.31960401892,
          -29797.0334770274,
          -31605.820864202917,
          -30602.760070307915,
          -31311.18292674739,
          -30635.312502435117,
          -30610.09815743468,
          -31537.814457416574,
          -30931.14502682973,
          -31343.980341310216,
          -27155.415326323142,
          -31402.340691896297,
          -31318.740826225774,
          -30597.97958524435,
          -29094.244983759556,
          -30335.03057743995,
          -30961.29356578409,
          -23604.818477795037,
          -31306.6620517708,
          -31632.65423946846,
          -31224.10587539338,
          -31111.81311464292,
          -31468.987269792586,
          -31184.86907548991,
          -31435.663438516185,
          -23867.69343887534,
          -20915.34739555715,
          -25455.426233323287,
          -31209.82018731944,
          -31389.240999247977,
          -7379.076298415321,
          -31199.884614287388,
          -14095.949536644923,
          -30739.042461552075,
          -22973.494429958002,
          -30742.024598493055,
          -25710.945737834325,
          -30916.335662559068,
          -18042.57683552602,
          -31155.036953164494,
          -31526.52224796524,
          -30587.15438091382,
          -31166.05542862755,
          -31362.094759490545,
          -30076.764804462575,
          -31188.143011602384,
          -29234.40277609219,
          -31547.05757529321,
          -31529.748045800756,
          -31263.42147832565,
          -31545.057308475316,
          -31141.952339799263,
          -30964.877167027844,
          -30679.59265818324,
          -31091.95270855508,
          -29214.146135121107,
          -30573.360566209998,
          -26662.28893378149,
          -31176.940182723025,
          -30096.252950251193,
          -20294.04980722486,
          -31373.160012992223,
          -27257.366477926793,
          -31465.774570895366,
          -30430.580382381646,
          -29199.794071493543,
          -29232.96119878063,
          -31038.382155420313,
          -31536.66161031334,
          -25948.525247623453,
          -30367.120713334305,
          -31205.34899769878,
          -19312.41319653121,
          -30809.731658453045,
          -31602.46093718413,
          -25211.078975295855,
          -19281.854814545317,
          -31248.233548725973,
          -31225.711076618845,
          -30038.678661919366,
          -31350.128275540224,
          -31290.60691358265,
          -30757.122064279985,
          -31061.524657466103,
          -31337.13805266787,
          -30903.454749033433,
          -31553.119716733905,
          -31417.194236463318,
          -31238.625732918565,
          -31062.125856900344,
          -6263.841763454028,
          -14854.54219294913,
          -30593.098953144538,
          -31322.24921405878,
          -31404.35521562821,
          -31372.625370352842,
          -31238.31763653917,
          -30607.821146958635,
          -31263.623587961,
          -31338.171438840873,
          -30370.93101076496,
          -17024.264664523627,
          -31470.249588278195,
          -31377.566332057948,
          -5100.280574566365,
          -28253.946716139788,
          -31394.673591774826,
          -31010.15412517475,
          -31381.146697967848,
          -28792.94550508757,
          -30821.877190981188,
          -11609.649153996737,
          -27768.905248885545,
          -31397.744520003012,
          -31214.115338911073,
          -31276.232129391108,
          -31341.805960758502,
          -28114.72253855677,
          -15369.85787416659,
          -31408.179870159416,
          -31164.44475594965,
          -31342.049937130887,
          -30494.990969258957,
          -30445.976918362245,
          -30996.205787431492,
          -30629.14129352546,
          -31341.82611625927,
          -31466.19047328332,
          -31043.611272500202,
          -29878.16892188008,
          -23343.295692675787,
          -31122.49768851121,
          -30946.38915153865,
          -31327.70661287456,
          -20310.416370919706,
          -28706.9527408002,
          -29999.687969883587,
          -31466.287970613517,
          -30520.792773113284,
          -24299.123899548267,
          -31272.017743404598,
          -31115.59830377261,
          -30747.398346048154,
          -17619.43488217613,
          -30393.759206046532,
          -31490.25173122023,
          -25593.23637164352,
          -30712.86787271542,
          -31218.18878479314,
          -29456.716327284637
         ],
         "y": [
          -58945.26478438101,
          -59247.22763086299,
          -58928.003238539815,
          -58593.29415177506,
          -59649.77162830136,
          -3089.680986571005,
          -59987.42787068395,
          -57925.451193597386,
          -59559.102993613335,
          -60511.18350446611,
          -59426.02497625688,
          -60292.61100964067,
          -56934.177665519754,
          -59710.12627791934,
          -48456.65981958333,
          -60325.547231948396,
          -59923.93627175738,
          -60309.017110040215,
          6913.805471622066,
          -54333.584635047075,
          -40643.903305491025,
          -58713.960253061094,
          -57679.48598381735,
          -59253.369351953115,
          -57458.09649592338,
          -37072.62812182128,
          -59996.800565025376,
          -59569.209452693125,
          -59868.49526057626,
          -59738.508637686136,
          -60400.108910227966,
          -59906.67028779287,
          -58692.69983647267,
          -60400.39519455181,
          -60173.33291547661,
          -59984.235445389,
          -59799.29765659308,
          -59401.39701586912,
          -59248.27883795355,
          -56338.86817827931,
          -60616.33273703316,
          -58244.270090764265,
          -59919.56575155658,
          -58321.25087673865,
          -58261.62337829619,
          -60455.50952648932,
          -59020.84285056407,
          -59997.12587797382,
          -50091.905103728684,
          -60135.13785939206,
          -59937.43885670239,
          -58232.96508301264,
          -54676.89679702845,
          -57611.13685178025,
          -59092.13885129352,
          -41695.36701988127,
          -59908.87467607472,
          -60679.788957760866,
          -59713.64381529784,
          -59448.09115403964,
          -60292.7453133885,
          -59620.85567326636,
          -60213.94030387918,
          -42317.02014361332,
          -35335.24016493344,
          -46071.72940639043,
          -59679.86067148174,
          -60104.15938650406,
          -3324.335905963264,
          -59656.364785886326,
          -19208.561672836873,
          -58566.5540157088,
          -40202.39650335815,
          -58573.60624592936,
          -46675.988166909,
          -58985.82130449704,
          -28541.64223126307,
          -59550.30794230354,
          -60428.80543397929,
          -58207.36537561009,
          -59576.36470199729,
          -60039.963296190115,
          -57000.383648566596,
          -59628.59795728935,
          -55008.34536505069,
          -60477.36787723303,
          -60436.433879430064,
          -59806.61831265512,
          -60472.63759744324,
          -59519.365129272235,
          -59100.61343897671,
          -58425.96566976055,
          -59401.124781006794,
          -54960.441966095386,
          -58174.7454259444,
          -48925.74777532269,
          -59602.105234137365,
          -57046.4696913584,
          -33865.980464554545,
          -60066.13067773128,
          -50333.0016752775,
          -60285.14784462669,
          -57837.095362510554,
          -54926.50185575011,
          -55004.93628784095,
          -59274.43982950201,
          -60452.78324552301,
          -47237.82199006275,
          -57687.024388340324,
          -59669.28709314222,
          -31544.582249602332,
          -58733.72155379234,
          -60608.3870996162,
          -45493.891047027966,
          -31472.31704206921,
          -59770.7015260587,
          -59717.439834332625,
          -56910.31660914378,
          -60011.664662888434,
          -59870.90709344306,
          -58609.30910149351,
          -59329.16778315959,
          -59980.94506679838,
          -58955.36020581793,
          -60491.70377726561,
          -60170.26388410219,
          -59747.98072874742,
          -59330.58951425465,
          -687.0020590901008,
          -21002.500100801666,
          -58221.4232451055,
          -59945.73557787617,
          -60139.901854280084,
          -60064.86634176909,
          -59747.25213490998,
          -58256.23864834935,
          -59807.09626645351,
          -59983.38884364129,
          -57696.03507269909,
          -26133.512756183005,
          -60295.73047495162,
          -60076.55084859925,
          2064.615838456372,
          -52689.738945304096,
          -60117.006513900305,
          -59207.68549463937,
          -60085.01778528598,
          -53964.376436300525,
          -58762.44360554074,
          -13328.897846896134,
          -51542.70104553978,
          -60124.2687199239,
          -59690.017950793816,
          -59836.91325295356,
          -59991.98384977684,
          -52360.49821222769,
          -22221.131200623622,
          -60148.94649066063,
          -59572.55574393826,
          -59992.560811056785,
          -57989.41509037335,
          -57873.50546656785,
          -59174.700125118696,
          -58306.65705129356,
          -59992.03151399698,
          -60286.131380744315,
          -59286.805773195214,
          -56530.73925847188,
          -41076.91155486334,
          -59473.35829509283,
          -59056.89252872633,
          -59958.6413677899,
          -33904.68451382516,
          -53761.01864856026,
          -56818.110469004365,
          -60286.3619448103,
          -58050.43182585112,
          -43337.277426575136,
          -59826.94697011567,
          -59457.04246167548,
          -58586.31421530022,
          -27540.985812709445,
          -57750.01974604961,
          -60343.03203075651,
          -46397.62618490692,
          -58504.65570920658,
          -59699.65093503291,
          -55534.077876731535
         ],
         "z": [
          -3389.796346734804,
          -3370.607904493469,
          -3390.8932438505544,
          -3412.1625690468877,
          -3345.027962012355,
          -6939.178848745047,
          -3323.5713577318306,
          -3454.601121268045,
          -3350.789564408416,
          -3290.288936253522,
          -3359.2461009637773,
          -3304.178279731919,
          -3517.5922973696306,
          -3341.1926831968212,
          -4056.3021533397705,
          -3302.0853242350336,
          -3327.6059762056143,
          -3303.135742500634,
          -7574.857457392926,
          -3682.8488173018677,
          -4552.7692812095,
          -3404.4947564600425,
          -3470.231154155299,
          -3370.217624491232,
          -3484.2995054468074,
          -4779.708483790672,
          -3322.975763253531,
          -3350.147342331838,
          -3331.129014398042,
          -3339.389106109762,
          -3297.347249754172,
          -3328.703155345044,
          -3405.845764640309,
          -3297.329057614719,
          -3311.757890426376,
          -3323.7742226507953,
          -3335.526224991131,
          -3360.8111020919887,
          -3370.541104796831,
          -3555.4216589772477,
          -3283.607154043094,
          -3434.3415493869134,
          -3327.8837039970117,
          -3429.449750999888,
          -3433.2388224806627,
          -3293.826778485436,
          -3384.9936851671264,
          -3322.9550910125777,
          -3952.3893374062654,
          -3314.185022227926,
          -3326.7479449135376,
          -3435.059934084922,
          -3661.0328036178107,
          -3474.574447999622,
          -3380.463130471495,
          -4485.953277229219,
          -3328.5630759355513,
          -3279.5747837019308,
          -3340.969158801004,
          -3357.843890119613,
          -3304.169745305455,
          -3346.865446787408,
          -3309.1774652647637,
          -4446.44989064424,
          -4890.112027968162,
          -4207.8542400163915,
          -3343.1159325229974,
          -3316.15357115592,
          -6924.267536244645,
          -3344.608995159376,
          -5914.8931968946745,
          -3413.861789869617,
          -4580.825142619553,
          -3413.413650921941,
          -4169.456190520843,
          -3387.219154034369,
          -5321.81600440047,
          -3351.3484521525,
          -3295.5237088949416,
          -3436.6866855631647,
          -3349.6926569637703,
          -3320.232957032229,
          -3513.3851914407855,
          -3346.373457883733,
          -3639.970670386636,
          -3292.4377741571784,
          -3295.038953943699,
          -3335.061028733871,
          -3292.7383631256203,
          -3353.3147350497275,
          -3379.924606814785,
          -3422.795575557036,
          -3360.828401448491,
          -3643.0147256892224,
          -3438.759543291749,
          -4026.4936280537036,
          -3348.056956678171,
          -3510.456621318517,
          -4983.47717280867,
          -3318.570132300116,
          -3937.068685572284,
          -3304.6525318211297,
          -3460.2157549266135,
          -3645.171473960119,
          -3640.187302604465,
          -3368.878686121315,
          -3294.0000219339768,
          -4133.754063618759,
          -3469.7521209183756,
          -3343.7878380226834,
          -5130.992061099431,
          -3403.2390106551766,
          -3284.1120651817396,
          -4244.573386469782,
          -5135.584204725585,
          -3337.3433862925212,
          -3340.727938091753,
          -3519.1085650410405,
          -3322.031213661958,
          -3330.97575277596,
          -3411.144887761754,
          -3365.4009596725823,
          -3323.9833120810804,
          -3389.154826053034,
          -3291.5267892696083,
          -3311.952914191554,
          -3338.7871953967338,
          -3365.310614766518,
          -7091.858777291131,
          -5800.896113112486,
          -3435.793368322347,
          -3326.2207239097274,
          -3313.882290809767,
          -3318.650475421353,
          -3338.833494406463,
          -3433.5809989463237,
          -3335.0306568223546,
          -3323.8280205564865,
          -3469.1795306199747,
          -5474.842291841394,
          -3303.980051106641,
          -3317.907975186503,
          -7266.712279013059,
          -3787.3081520802725,
          -3315.3371913764804,
          -3373.1206374533867,
          -3317.3699377177636,
          -3706.3104129227,
          -3401.413847601351,
          -6288.52058528686,
          -3860.1974851378864,
          -3314.8757093681743,
          -3342.470481038885,
          -3333.1359153668,
          -3323.2818448242156,
          -3808.2299868812584,
          -5723.457339618131,
          -3313.3075430061745,
          -3349.9346998924516,
          -3323.245181412393,
          -3450.536490294017,
          -3457.902049161669,
          -3375.216716044613,
          -3430.3771259398704,
          -3323.2788159676998,
          -3304.5900323242377,
          -3368.0928834999618,
          -3543.2290757407623,
          -4525.253466333917,
          -3356.238271804806,
          -3382.7028829201145,
          -3325.400616379203,
          -4981.017696675804,
          -3719.2329270990012,
          -3524.967869306366,
          -3304.575380967905,
          -3446.6591387651433,
          -4381.616921378325,
          -3333.769229845133,
          -3357.2750729569857,
          -3412.606114037459,
          -5385.403422900923,
          -3465.7490364430505,
          -3300.974240351901,
          -4187.144899168479,
          -3417.7951614515587,
          -3341.8583462552942,
          -3606.562626806738
         ]
        },
        {
         "mode": "markers",
         "name": "Scatter Point",
         "type": "scatter3d",
         "x": [
          54.83637810234373,
          178.90169938107402,
          -72.52841044102114,
          66.56309516848228,
          100.40644502781942,
          -70.13880096812585,
          -117.07009904296099,
          -99.02779448390704,
          -13.077713485336773,
          -151.99584774628394,
          6.2066703170818585,
          -6.491202018127268,
          30.962057226222043,
          116.82450940214653,
          109.01512559317837,
          110.32113995178435,
          130.99504447491654,
          67.68197101861034,
          96.6076973997678,
          74.27922559992112,
          31.224489046412344,
          -10.444423322880112,
          -142.88843669961958,
          -41.76928110761145,
          22.62506345896577,
          -128.7841880639669,
          39.38946141476541,
          -126.28493570957514,
          -11.165606227294006,
          100.31042448512642,
          145.75169018127616,
          54.52320167016174,
          116.41696935584866,
          15.76604431575953,
          9.22908749576959,
          -41.075887021447244,
          -135.6987732550498,
          42.32561381496532,
          172.19513051015952,
          130.8636244379856,
          -44.737993889163874,
          141.4832109954101,
          -104.79854388113318,
          -76.0961961726606,
          -76.67709964710356,
          -131.67078349672212,
          29.038709896506646,
          86.07798986582355,
          58.20725016944556,
          -168.15282031136377,
          -46.83525629781272,
          145.34110531553813,
          43.94940750667388,
          59.868492615890375,
          -116.78600438973218,
          121.2581929589332,
          -28.6831367678881,
          -118.61465985739046,
          -159.46415397495485,
          -23.11026907769326,
          -96.48422937700047,
          -113.73259848123016,
          -156.44703847574306,
          -25.634525370057077,
          -22.831536026528624,
          55.68987859706124,
          127.95521657893283,
          -101.45130527358135,
          99.24684406012625,
          129.885402142801,
          -65.44699956499525,
          14.165721138415421,
          -38.3489080568757,
          135.78150496353135,
          -8.640270908982302,
          -179.83312475456526,
          -84.61645050158407,
          134.66238397151898,
          -15.992145125180457,
          -60.718280939013,
          112.0078381528865,
          123.74022350209748,
          -5.109409365984732,
          -6.454714740563446,
          -75.89728527910813,
          -143.60688031242842,
          3.571981359620395,
          -79.93052127350157,
          -92.624306460562,
          20.754453812505744,
          -136.07506154715009,
          70.78298395985922,
          48.52184478737175,
          49.21714957432849,
          -77.78182772899002,
          -2.1518604728767343,
          -87.93273718343598,
          37.78532726132761,
          123.45126137273957,
          17.11493582696687,
          65.8020400690084,
          -56.99907934695801,
          160.75471965015674,
          -66.7536345360136,
          -44.69288848537062,
          84.59152694233518,
          -125.04804726111117,
          144.41167951672145,
          109.84819456817314,
          78.9801132606745,
          -76.07117178059681,
          -140.8553449892292,
          -113.95799476616003,
          79.42381816343988,
          -130.6647359751934,
          -161.47359768626262,
          -158.55544251793702,
          -126.0134129922534,
          -9.481878428451523,
          42.07081525422046,
          -9.669942272270845,
          -9.467515988708755,
          -126.41979752232069,
          15.667399604583522,
          90.02787916054376,
          -12.82776620330094,
          138.06011442258557,
          -18.809253156659878,
          -25.525801928283215,
          17.39000917833212,
          147.23452874521064,
          -118.00057664360773,
          -50.283779016380635,
          -183.8653746288272,
          20.548919250947023,
          -137.56952449926607,
          105.67831729812815,
          -133.3374584723466,
          26.12554461299382,
          -43.02573962970175,
          128.4968031485746,
          -95.4050962596483,
          -118.48942452143123,
          91.8887437089362,
          0.4271410461722098,
          141.46804655464513,
          130.6929295062239,
          34.26834419001045,
          -109.45528165321723,
          -159.87603932476986,
          48.514194079301035,
          -111.38609662848214,
          101.71003713477222,
          70.60245673918945,
          58.814822767927524,
          -100.00635196763432,
          -175.682474109569,
          -73.88445858318869,
          66.52125115623392,
          -22.422001069026408,
          -22.266185504428904,
          -58.830666302392444,
          31.31856693107764,
          -173.02471282861768,
          -2.188664400758398,
          64.96819070817725,
          80.32035171532601,
          -3.760432263823162,
          115.96177589875305,
          12.152441987935333,
          99.81485257234925,
          31.16614788390234,
          33.80425900066135,
          24.420200086782216,
          94.74856753950166,
          73.98682846200569,
          90.34435087076946,
          43.945109896562855,
          -0.14424869759471903,
          -56.12661376769802,
          79.44548136900187,
          -70.91446309124484,
          -105.6368090246369,
          172.27130780616676,
          129.36673093288255,
          145.62721903613038,
          72.35869393245639,
          -130.7837903263037
         ],
         "y": [
          120.44859280472213,
          501.1417384492124,
          99.76107599931674,
          265.29775288470364,
          537.6529645632652,
          -298.6240624110721,
          -4.070646617999728,
          152.39782040376508,
          360.7320210336302,
          -368.70014579622483,
          376.16879105815656,
          -125.4470415927027,
          203.7395112347308,
          -350.64809773925344,
          151.5687718472119,
          -579.1081028461468,
          -464.3125653194371,
          -542.6575696438929,
          523.5799389543809,
          227.91637495867076,
          -389.094587937319,
          -43.248492023143854,
          350.84634368434195,
          473.2591278569421,
          309.32044146064936,
          76.52083159586459,
          -477.68364986958323,
          370.255046928168,
          66.51198259291175,
          -227.48116016043502,
          -405.5708614138899,
          166.50416436988598,
          508.8331376102226,
          -466.41817994693594,
          -113.96128256735119,
          28.844049062547356,
          363.21238547910866,
          -137.14271894298304,
          -417.3855012082857,
          492.350080553166,
          -426.401839032013,
          537.004196992775,
          444.76517119517985,
          -178.99182826165634,
          544.5046521034267,
          -322.03298744090444,
          556.2367792249486,
          31.78232212303942,
          558.2897693243835,
          95.68187578112145,
          132.91994001748787,
          105.6081968802365,
          -446.85013384194417,
          -490.3772769306139,
          -580.4320405949252,
          156.830240003648,
          -428.77254259979713,
          -511.0984345065148,
          -157.2073793870269,
          300.40098959366105,
          -478.3201959452825,
          548.6742110758385,
          -432.07619868365225,
          -496.75438458534575,
          -17.442176510996887,
          483.62671041608587,
          430.9782363754698,
          201.9195419799404,
          -216.34298175668312,
          269.62058918048683,
          -152.95263405437697,
          313.5504009353872,
          473.1443587377448,
          558.7980223836071,
          316.1387690168085,
          173.4878302890147,
          -336.72092610113896,
          189.96032040705018,
          -395.2932996593091,
          169.58286327194617,
          -417.35191363451685,
          -270.7537968671337,
          492.20804663414947,
          436.1573054466869,
          365.58624301836176,
          -471.76133464729764,
          -299.5594543576967,
          -393.00843519932994,
          -403.0433941751806,
          153.79347919472934,
          -34.356547971215264,
          457.4341747755932,
          26.08959505921257,
          -287.63443051149477,
          597.268821495767,
          -227.0607093047904,
          596.6843289082467,
          603.5999638672802,
          123.1862245721843,
          203.5871839276498,
          548.0958944632134,
          -231.3656572481941,
          -299.30105186333884,
          503.77278190736047,
          -5.557561973903489,
          -55.87190444913881,
          -315.2272913451902,
          437.46293756217733,
          -575.663028441503,
          190.68777866481048,
          287.92819130286534,
          560.3154690968781,
          -475.4103759578424,
          508.5426346289494,
          286.7626167098149,
          289.70653384067714,
          -226.44401247373128,
          464.9787701950356,
          289.5964205977775,
          -511.8487710598622,
          265.6481275649403,
          187.58315126773368,
          -213.94358094516474,
          -126.69366446944593,
          -341.07848370810495,
          -519.9458534845887,
          -141.74505427155952,
          448.34967385263894,
          423.10513181711417,
          247.20654300745423,
          130.42200288339313,
          193.09241079129185,
          149.52756264781965,
          -329.7941806160019,
          -55.25884618445684,
          384.3291255554607,
          46.37625859679349,
          -65.10111357396488,
          -438.89032865150864,
          -553.3589784521082,
          -274.53748645186624,
          -198.03948777155733,
          -538.371057448788,
          569.5594594381084,
          30.257249055843772,
          -313.6941261270062,
          -235.8209564655366,
          -108.17605956122611,
          421.9599093589504,
          517.4422022683812,
          -332.38613902205253,
          106.4956309121493,
          143.24633202140694,
          -34.12057899995682,
          184.62143662621656,
          -435.02589143029587,
          -396.85159762873957,
          -570.142932003591,
          -288.4878727834231,
          -46.89070290578172,
          390.6459308221872,
          11.33954999001594,
          -516.4895792953632,
          -288.2538185759021,
          159.32342913157868,
          -326.24805922167116,
          428.8799369387209,
          -559.7627328221708,
          10.224396150157531,
          360.0796264567475,
          525.2641773828634,
          268.70511650597473,
          -321.8933899087222,
          -136.26549914369832,
          122.00888228049166,
          -281.7920196297936,
          512.5465024058481,
          503.1064331380205,
          507.3638008968319,
          -64.91169997048155,
          -93.70398846888759,
          -59.39934837524993,
          560.0582455223023,
          -200.86598057940193,
          122.5447027282836,
          164.07818872198482,
          -463.84655087581666,
          24.11743249066467
         ],
         "z": [
          41.81711529742364,
          -64.92852050553086,
          47.117176373530526,
          -82.43274686823972,
          68.39825281823056,
          18.654842718942092,
          -113.32698642200545,
          -135.40314039758562,
          94.64335065649306,
          -88.28164769281672,
          -170.62644705141702,
          -10.057594757718789,
          11.341536903756207,
          -103.62067643961717,
          -149.6626206783163,
          37.72639576003888,
          -1.1362570254726734,
          -69.50164498571621,
          -84.33564463390528,
          127.34257678229875,
          17.939182357614186,
          -85.13357656407297,
          92.3054821869174,
          105.88520461292086,
          75.85882029008013,
          31.84428525502713,
          -135.14551366552809,
          -74.9315796755809,
          26.850607428286906,
          123.05296432421528,
          39.97637059005859,
          -10.823529473374407,
          122.47735473940207,
          -78.09417950419343,
          -174.79486460244127,
          17.510908907663577,
          10.127472768310668,
          -39.17233474477763,
          -9.794087325954422,
          119.07316161634355,
          21.238682517564342,
          -17.216320752996182,
          77.10905183799821,
          52.06129547936351,
          107.72405972071925,
          -60.17873192676308,
          -99.9432112699143,
          -6.787744959987435,
          -15.886816989120064,
          25.0641981444721,
          -111.19400387468215,
          -80.219642462579,
          8.928831413130752,
          -19.610226109862822,
          54.92032952995834,
          42.19558477811097,
          52.02543487545026,
          90.60264365420903,
          13.801958089333255,
          -175.95576450748754,
          -100.15952550444078,
          103.4852313459748,
          3.0519487565184704,
          -35.452900180629285,
          -172.21532617976857,
          -174.14505590869135,
          6.293918082800417,
          9.985855097502196,
          -121.84627371812327,
          -4.606749895521489,
          45.92106738703069,
          76.44819968417528,
          69.10299739470452,
          42.76668558692705,
          -126.26965087317066,
          58.70372867181703,
          28.489996057993835,
          88.90203152244214,
          31.122902613370456,
          -119.85548293590385,
          -44.20752405886529,
          82.890357931106,
          20.503489002713593,
          1.1826360879977926,
          -159.91012304641504,
          -74.97531404579591,
          119.1776611603189,
          80.9608013316938,
          61.058010755227315,
          85.20321118259261,
          86.12765695916983,
          -135.39025725479877,
          132.07635082686164,
          2.474781372237743,
          -13.096602252000366,
          -172.00752938212167,
          -23.893387671205517,
          -16.59719226562285,
          -131.95159106687422,
          -128.70373903277272,
          38.02637649495759,
          118.66043473654997,
          61.61199162567124,
          -22.768661621844444,
          -115.04559456821437,
          -40.85949487407956,
          -69.1207190045179,
          33.52157294734664,
          -27.802098027135315,
          82.15891148092788,
          -43.86924986458695,
          -23.167894483474555,
          -82.22296433379665,
          -18.8697530658616,
          -29.954031676231097,
          -93.30021181592359,
          99.50463823699118,
          -63.02323533991992,
          -63.77432208959854,
          117.23456982719046,
          22.162867261587195,
          70.54170905352476,
          -89.69319086265237,
          -69.23096286682929,
          21.065288338235263,
          122.22863694481305,
          -22.724375888310362,
          33.0741061005686,
          48.169058360347435,
          62.02285042504724,
          -91.3731115385965,
          132.131882368692,
          -166.56260857110118,
          -24.11891123267455,
          -6.729890258270899,
          55.854521275486235,
          125.97252228607272,
          84.77368638098818,
          -166.1343461719731,
          -88.42865743822497,
          66.37463145126742,
          -116.53425215533883,
          25.520839323911304,
          74.68724495604545,
          121.38542125004477,
          -28.504731207404717,
          29.934114425846616,
          -107.1836418663557,
          57.55352314840911,
          104.90556420722754,
          -51.41301668451939,
          111.09016643030685,
          -127.96091098084892,
          -134.1701572795382,
          41.525166246413164,
          -29.058803012867997,
          61.711417390696454,
          73.174793830883,
          65.80533880862083,
          -19.925324140209938,
          -158.62658182624511,
          -39.8419486060435,
          15.842387556197451,
          -69.73524790305689,
          86.04854857065362,
          60.22992857939079,
          -136.27696652540524,
          14.508909669312686,
          -92.04576269761785,
          -14.703079517070535,
          -89.72868238902016,
          -117.18569945306254,
          -17.19363771185928,
          31.681014549183942,
          71.2868145204639,
          -57.57422577862198,
          57.26699401907524,
          128.2582506195928,
          -119.8639062500506,
          -16.161279280262107,
          -83.14674588936835,
          94.50078783184193,
          -35.75316271860319,
          -63.78140776607282,
          -24.32404547684689,
          98.57326551823309,
          85.20266698344102,
          90.33835933100312
         ]
        },
        {
         "mode": "markers",
         "name": "Beam Origin",
         "type": "scatter3d",
         "x": [
          -31387.584220952263
         ],
         "y": [
          -60100.24139675476
         ],
         "z": [
          -3316.402542580327
         ]
        },
        {
         "mode": "markers",
         "name": "Absorber",
         "type": "scatter3d",
         "x": [
          -3490.568950801211
         ],
         "y": [
          5871.301173221715
         ],
         "z": [
          -7508.610785826354
         ]
        }
       ],
       "layout": {
        "coloraxis": {
         "colorbar": {
          "title": {
           "text": "color"
          }
         },
         "colorscale": [
          [
           0,
           "#0d0887"
          ],
          [
           0.1111111111111111,
           "#46039f"
          ],
          [
           0.2222222222222222,
           "#7201a8"
          ],
          [
           0.3333333333333333,
           "#9c179e"
          ],
          [
           0.4444444444444444,
           "#bd3786"
          ],
          [
           0.5555555555555556,
           "#d8576b"
          ],
          [
           0.6666666666666666,
           "#ed7953"
          ],
          [
           0.7777777777777778,
           "#fb9f3a"
          ],
          [
           0.8888888888888888,
           "#fdca26"
          ],
          [
           1,
           "#f0f921"
          ]
         ]
        },
        "legend": {
         "tracegroupgap": 0
        },
        "margin": {
         "t": 60
        },
        "scene": {
         "domain": {
          "x": [
           0,
           1
          ],
          "y": [
           0,
           1
          ]
         },
         "xaxis": {
          "title": {
           "text": "x"
          }
         },
         "yaxis": {
          "title": {
           "text": "y"
          }
         },
         "zaxis": {
          "title": {
           "text": "z"
          }
         }
        },
        "template": {
         "data": {
          "bar": [
           {
            "error_x": {
             "color": "#2a3f5f"
            },
            "error_y": {
             "color": "#2a3f5f"
            },
            "marker": {
             "line": {
              "color": "#E5ECF6",
              "width": 0.5
             },
             "pattern": {
              "fillmode": "overlay",
              "size": 10,
              "solidity": 0.2
             }
            },
            "type": "bar"
           }
          ],
          "barpolar": [
           {
            "marker": {
             "line": {
              "color": "#E5ECF6",
              "width": 0.5
             },
             "pattern": {
              "fillmode": "overlay",
              "size": 10,
              "solidity": 0.2
             }
            },
            "type": "barpolar"
           }
          ],
          "carpet": [
           {
            "aaxis": {
             "endlinecolor": "#2a3f5f",
             "gridcolor": "white",
             "linecolor": "white",
             "minorgridcolor": "white",
             "startlinecolor": "#2a3f5f"
            },
            "baxis": {
             "endlinecolor": "#2a3f5f",
             "gridcolor": "white",
             "linecolor": "white",
             "minorgridcolor": "white",
             "startlinecolor": "#2a3f5f"
            },
            "type": "carpet"
           }
          ],
          "choropleth": [
           {
            "colorbar": {
             "outlinewidth": 0,
             "ticks": ""
            },
            "type": "choropleth"
           }
          ],
          "contour": [
           {
            "colorbar": {
             "outlinewidth": 0,
             "ticks": ""
            },
            "colorscale": [
             [
              0,
              "#0d0887"
             ],
             [
              0.1111111111111111,
              "#46039f"
             ],
             [
              0.2222222222222222,
              "#7201a8"
             ],
             [
              0.3333333333333333,
              "#9c179e"
             ],
             [
              0.4444444444444444,
              "#bd3786"
             ],
             [
              0.5555555555555556,
              "#d8576b"
             ],
             [
              0.6666666666666666,
              "#ed7953"
             ],
             [
              0.7777777777777778,
              "#fb9f3a"
             ],
             [
              0.8888888888888888,
              "#fdca26"
             ],
             [
              1,
              "#f0f921"
             ]
            ],
            "type": "contour"
           }
          ],
          "contourcarpet": [
           {
            "colorbar": {
             "outlinewidth": 0,
             "ticks": ""
            },
            "type": "contourcarpet"
           }
          ],
          "heatmap": [
           {
            "colorbar": {
             "outlinewidth": 0,
             "ticks": ""
            },
            "colorscale": [
             [
              0,
              "#0d0887"
             ],
             [
              0.1111111111111111,
              "#46039f"
             ],
             [
              0.2222222222222222,
              "#7201a8"
             ],
             [
              0.3333333333333333,
              "#9c179e"
             ],
             [
              0.4444444444444444,
              "#bd3786"
             ],
             [
              0.5555555555555556,
              "#d8576b"
             ],
             [
              0.6666666666666666,
              "#ed7953"
             ],
             [
              0.7777777777777778,
              "#fb9f3a"
             ],
             [
              0.8888888888888888,
              "#fdca26"
             ],
             [
              1,
              "#f0f921"
             ]
            ],
            "type": "heatmap"
           }
          ],
          "heatmapgl": [
           {
            "colorbar": {
             "outlinewidth": 0,
             "ticks": ""
            },
            "colorscale": [
             [
              0,
              "#0d0887"
             ],
             [
              0.1111111111111111,
              "#46039f"
             ],
             [
              0.2222222222222222,
              "#7201a8"
             ],
             [
              0.3333333333333333,
              "#9c179e"
             ],
             [
              0.4444444444444444,
              "#bd3786"
             ],
             [
              0.5555555555555556,
              "#d8576b"
             ],
             [
              0.6666666666666666,
              "#ed7953"
             ],
             [
              0.7777777777777778,
              "#fb9f3a"
             ],
             [
              0.8888888888888888,
              "#fdca26"
             ],
             [
              1,
              "#f0f921"
             ]
            ],
            "type": "heatmapgl"
           }
          ],
          "histogram": [
           {
            "marker": {
             "pattern": {
              "fillmode": "overlay",
              "size": 10,
              "solidity": 0.2
             }
            },
            "type": "histogram"
           }
          ],
          "histogram2d": [
           {
            "colorbar": {
             "outlinewidth": 0,
             "ticks": ""
            },
            "colorscale": [
             [
              0,
              "#0d0887"
             ],
             [
              0.1111111111111111,
              "#46039f"
             ],
             [
              0.2222222222222222,
              "#7201a8"
             ],
             [
              0.3333333333333333,
              "#9c179e"
             ],
             [
              0.4444444444444444,
              "#bd3786"
             ],
             [
              0.5555555555555556,
              "#d8576b"
             ],
             [
              0.6666666666666666,
              "#ed7953"
             ],
             [
              0.7777777777777778,
              "#fb9f3a"
             ],
             [
              0.8888888888888888,
              "#fdca26"
             ],
             [
              1,
              "#f0f921"
             ]
            ],
            "type": "histogram2d"
           }
          ],
          "histogram2dcontour": [
           {
            "colorbar": {
             "outlinewidth": 0,
             "ticks": ""
            },
            "colorscale": [
             [
              0,
              "#0d0887"
             ],
             [
              0.1111111111111111,
              "#46039f"
             ],
             [
              0.2222222222222222,
              "#7201a8"
             ],
             [
              0.3333333333333333,
              "#9c179e"
             ],
             [
              0.4444444444444444,
              "#bd3786"
             ],
             [
              0.5555555555555556,
              "#d8576b"
             ],
             [
              0.6666666666666666,
              "#ed7953"
             ],
             [
              0.7777777777777778,
              "#fb9f3a"
             ],
             [
              0.8888888888888888,
              "#fdca26"
             ],
             [
              1,
              "#f0f921"
             ]
            ],
            "type": "histogram2dcontour"
           }
          ],
          "mesh3d": [
           {
            "colorbar": {
             "outlinewidth": 0,
             "ticks": ""
            },
            "type": "mesh3d"
           }
          ],
          "parcoords": [
           {
            "line": {
             "colorbar": {
              "outlinewidth": 0,
              "ticks": ""
             }
            },
            "type": "parcoords"
           }
          ],
          "pie": [
           {
            "automargin": true,
            "type": "pie"
           }
          ],
          "scatter": [
           {
            "fillpattern": {
             "fillmode": "overlay",
             "size": 10,
             "solidity": 0.2
            },
            "type": "scatter"
           }
          ],
          "scatter3d": [
           {
            "line": {
             "colorbar": {
              "outlinewidth": 0,
              "ticks": ""
             }
            },
            "marker": {
             "colorbar": {
              "outlinewidth": 0,
              "ticks": ""
             }
            },
            "type": "scatter3d"
           }
          ],
          "scattercarpet": [
           {
            "marker": {
             "colorbar": {
              "outlinewidth": 0,
              "ticks": ""
             }
            },
            "type": "scattercarpet"
           }
          ],
          "scattergeo": [
           {
            "marker": {
             "colorbar": {
              "outlinewidth": 0,
              "ticks": ""
             }
            },
            "type": "scattergeo"
           }
          ],
          "scattergl": [
           {
            "marker": {
             "colorbar": {
              "outlinewidth": 0,
              "ticks": ""
             }
            },
            "type": "scattergl"
           }
          ],
          "scattermapbox": [
           {
            "marker": {
             "colorbar": {
              "outlinewidth": 0,
              "ticks": ""
             }
            },
            "type": "scattermapbox"
           }
          ],
          "scatterpolar": [
           {
            "marker": {
             "colorbar": {
              "outlinewidth": 0,
              "ticks": ""
             }
            },
            "type": "scatterpolar"
           }
          ],
          "scatterpolargl": [
           {
            "marker": {
             "colorbar": {
              "outlinewidth": 0,
              "ticks": ""
             }
            },
            "type": "scatterpolargl"
           }
          ],
          "scatterternary": [
           {
            "marker": {
             "colorbar": {
              "outlinewidth": 0,
              "ticks": ""
             }
            },
            "type": "scatterternary"
           }
          ],
          "surface": [
           {
            "colorbar": {
             "outlinewidth": 0,
             "ticks": ""
            },
            "colorscale": [
             [
              0,
              "#0d0887"
             ],
             [
              0.1111111111111111,
              "#46039f"
             ],
             [
              0.2222222222222222,
              "#7201a8"
             ],
             [
              0.3333333333333333,
              "#9c179e"
             ],
             [
              0.4444444444444444,
              "#bd3786"
             ],
             [
              0.5555555555555556,
              "#d8576b"
             ],
             [
              0.6666666666666666,
              "#ed7953"
             ],
             [
              0.7777777777777778,
              "#fb9f3a"
             ],
             [
              0.8888888888888888,
              "#fdca26"
             ],
             [
              1,
              "#f0f921"
             ]
            ],
            "type": "surface"
           }
          ],
          "table": [
           {
            "cells": {
             "fill": {
              "color": "#EBF0F8"
             },
             "line": {
              "color": "white"
             }
            },
            "header": {
             "fill": {
              "color": "#C8D4E3"
             },
             "line": {
              "color": "white"
             }
            },
            "type": "table"
           }
          ]
         },
         "layout": {
          "annotationdefaults": {
           "arrowcolor": "#2a3f5f",
           "arrowhead": 0,
           "arrowwidth": 1
          },
          "autotypenumbers": "strict",
          "coloraxis": {
           "colorbar": {
            "outlinewidth": 0,
            "ticks": ""
           }
          },
          "colorscale": {
           "diverging": [
            [
             0,
             "#8e0152"
            ],
            [
             0.1,
             "#c51b7d"
            ],
            [
             0.2,
             "#de77ae"
            ],
            [
             0.3,
             "#f1b6da"
            ],
            [
             0.4,
             "#fde0ef"
            ],
            [
             0.5,
             "#f7f7f7"
            ],
            [
             0.6,
             "#e6f5d0"
            ],
            [
             0.7,
             "#b8e186"
            ],
            [
             0.8,
             "#7fbc41"
            ],
            [
             0.9,
             "#4d9221"
            ],
            [
             1,
             "#276419"
            ]
           ],
           "sequential": [
            [
             0,
             "#0d0887"
            ],
            [
             0.1111111111111111,
             "#46039f"
            ],
            [
             0.2222222222222222,
             "#7201a8"
            ],
            [
             0.3333333333333333,
             "#9c179e"
            ],
            [
             0.4444444444444444,
             "#bd3786"
            ],
            [
             0.5555555555555556,
             "#d8576b"
            ],
            [
             0.6666666666666666,
             "#ed7953"
            ],
            [
             0.7777777777777778,
             "#fb9f3a"
            ],
            [
             0.8888888888888888,
             "#fdca26"
            ],
            [
             1,
             "#f0f921"
            ]
           ],
           "sequentialminus": [
            [
             0,
             "#0d0887"
            ],
            [
             0.1111111111111111,
             "#46039f"
            ],
            [
             0.2222222222222222,
             "#7201a8"
            ],
            [
             0.3333333333333333,
             "#9c179e"
            ],
            [
             0.4444444444444444,
             "#bd3786"
            ],
            [
             0.5555555555555556,
             "#d8576b"
            ],
            [
             0.6666666666666666,
             "#ed7953"
            ],
            [
             0.7777777777777778,
             "#fb9f3a"
            ],
            [
             0.8888888888888888,
             "#fdca26"
            ],
            [
             1,
             "#f0f921"
            ]
           ]
          },
          "colorway": [
           "#636efa",
           "#EF553B",
           "#00cc96",
           "#ab63fa",
           "#FFA15A",
           "#19d3f3",
           "#FF6692",
           "#B6E880",
           "#FF97FF",
           "#FECB52"
          ],
          "font": {
           "color": "#2a3f5f"
          },
          "geo": {
           "bgcolor": "white",
           "lakecolor": "white",
           "landcolor": "#E5ECF6",
           "showlakes": true,
           "showland": true,
           "subunitcolor": "white"
          },
          "hoverlabel": {
           "align": "left"
          },
          "hovermode": "closest",
          "mapbox": {
           "style": "light"
          },
          "paper_bgcolor": "white",
          "plot_bgcolor": "#E5ECF6",
          "polar": {
           "angularaxis": {
            "gridcolor": "white",
            "linecolor": "white",
            "ticks": ""
           },
           "bgcolor": "#E5ECF6",
           "radialaxis": {
            "gridcolor": "white",
            "linecolor": "white",
            "ticks": ""
           }
          },
          "scene": {
           "xaxis": {
            "backgroundcolor": "#E5ECF6",
            "gridcolor": "white",
            "gridwidth": 2,
            "linecolor": "white",
            "showbackground": true,
            "ticks": "",
            "zerolinecolor": "white"
           },
           "yaxis": {
            "backgroundcolor": "#E5ECF6",
            "gridcolor": "white",
            "gridwidth": 2,
            "linecolor": "white",
            "showbackground": true,
            "ticks": "",
            "zerolinecolor": "white"
           },
           "zaxis": {
            "backgroundcolor": "#E5ECF6",
            "gridcolor": "white",
            "gridwidth": 2,
            "linecolor": "white",
            "showbackground": true,
            "ticks": "",
            "zerolinecolor": "white"
           }
          },
          "shapedefaults": {
           "line": {
            "color": "#2a3f5f"
           }
          },
          "ternary": {
           "aaxis": {
            "gridcolor": "white",
            "linecolor": "white",
            "ticks": ""
           },
           "baxis": {
            "gridcolor": "white",
            "linecolor": "white",
            "ticks": ""
           },
           "bgcolor": "#E5ECF6",
           "caxis": {
            "gridcolor": "white",
            "linecolor": "white",
            "ticks": ""
           }
          },
          "title": {
           "x": 0.05
          },
          "xaxis": {
           "automargin": true,
           "gridcolor": "white",
           "linecolor": "white",
           "ticks": "",
           "title": {
            "standoff": 15
           },
           "zerolinecolor": "white",
           "zerolinewidth": 2
          },
          "yaxis": {
           "automargin": true,
           "gridcolor": "white",
           "linecolor": "white",
           "ticks": "",
           "title": {
            "standoff": 15
           },
           "zerolinecolor": "white",
           "zerolinewidth": 2
          }
         }
        }
       }
      }
     },
     "metadata": {},
     "output_type": "display_data"
    }
   ],
   "source": [
    "skip=10\n",
    "plot_decays_scatter(df, skip=skip)\n",
    "# plot_decays_scatter(numi_df, skip=skip, beam='BNB')"
   ]
  },
  {
   "cell_type": "code",
   "execution_count": 24,
   "metadata": {},
   "outputs": [
    {
     "data": {
      "application/vnd.plotly.v1+json": {
       "config": {
        "plotlyServerURL": "https://plot.ly"
       },
       "data": [
        {
         "hovertemplate": "x=%{x}<br>y=%{y}<br>z=%{z}<br>color=%{marker.color}<extra></extra>",
         "legendgroup": "",
         "marker": {
          "color": [
           0.01535361945348801,
           0.03668290061823635,
           0.0032663251504235404,
           0.025087576154090137,
           0.014438438498766231,
           0.4343379081516426,
           430.43835614626,
           353.7392541590553,
           505.60258365864865,
           0.016155318393058525,
           779.676477521492,
           248.8970289627204,
           188.14047744512584,
           1037.8550367527896,
           0.021363980943840188,
           181.52905898082196,
           286.83770438797825,
           559.3578745096786,
           13208.685772355548,
           0.04079334859734823,
           0.03798194880183385,
           0.011146850475262033,
           0.027550951468489,
           130.31874872010425,
           1352.085718186953,
           0.13727605926625394,
           246.52076064311606,
           322.93318377262847,
           162.2132182162533,
           0.010253138112290344,
           0.015860878169815074,
           0.01780715333861511,
           554.1668148301887,
           0.038095574761331095,
           9.442925576452955e-16,
           462.53170797334894,
           0.0463244123920286,
           571.7956687438706,
           599.9370373209207,
           0.0320136716848219,
           348.3566721800697,
           904.380373171609,
           390.1111697513426,
           102.33204250612694,
           599.5573759559861,
           0.018578182969485414,
           553.2683168337669,
           61.96483912938769,
           0.01659409861529073,
           0.02187171502267884,
           67.61238332157139,
           95.35422378173169,
           213.40415690291306,
           0.009877598924179666,
           0.014336017232396518,
           0.024797964572937984,
           191.01702098287467,
           0.051780125846857955,
           0.014726636388151205,
           0.0157501547275566,
           478.76615493436714,
           0.010247018576079724,
           0.011010921623183298,
           1739.1811612598535,
           0.11801994619383484,
           647.1265277321521,
           0.01920163982019573,
           451.81258351981216,
           9015.36332398702,
           626.5009374363011,
           0.10920235458423343,
           266.0948083762902,
           895.534600000486,
           691.8886368829322,
           0.04077946896797243,
           568.6736981113256,
           662.745864594348,
           0.017664489498578566,
           296.0555788930086,
           0.017379335233699243,
           0.016570996896289502,
           0.01955149438383678,
           106.31862918408369,
           996.8422888470145,
           0.02311758476273928,
           186.0620488139043,
           0.02620559262110207,
           264.8055888209166,
           0.014367189916197523,
           0.02339428243627317,
           0.016036987113246987,
           396.47329228869904,
           21.671764384743355,
           0.026938480963397664,
           0.011057524655569844,
           0.0031364197192809275,
           523.8916442118293,
           0.03011908025219685,
           0.05115800752732734,
           963.8922406061379,
           797.8723568157236,
           0.02428164964155718,
           0.035071034726549724,
           0.020440036543186577,
           0.06454989454631103,
           37.75479176404884,
           421.5212559667657,
           0.029571705392244158,
           122.32841257696182,
           930.3751716607085,
           1101.7265802433026,
           761.388276034858,
           8.42983254368007e-8,
           0.03860381979920806,
           0.16687046294602634,
           0.03452543099536083,
           0.026372209035643152,
           504.934896149825,
           0.00477815397533419,
           0.05955921239034004,
           0.0175338873148943,
           0.03410192279103957,
           0.01110781548686474,
           0.025960283324496323,
           315.3782132981922,
           0.04338605875351489,
           0.046592842541947926,
           0.021185778202891095,
           10693.58681301011,
           0.24984834773930978,
           363.1188638439896,
           148.35990201617662,
           521.3133197749067,
           0.00415778876762653,
           0.017040011495240395,
           0.016205312169192552,
           0.01650664549262192,
           0.008462203590795565,
           0.017752297780312523,
           0.08446567287775443,
           0.04204599169300519,
           0.040807844977561,
           0.734822784495387,
           0.014796801122055565,
           335.95298192167564,
           0.04317618007767562,
           0.022350805662692316,
           2.2276889947108495e-17,
           5.142062305362526e-7,
           0.5578596754768104,
           0.03289739989321096,
           505.8484186224214,
           530.9516694046962,
           0.019073264450962257,
           655.31434330709,
           249.16860218359722,
           5363.8283090608475,
           0.01713267243850928,
           567.5866472868477,
           307.88804590999877,
           0.01809493562829693,
           132.95928299157512,
           0.026098083475464776,
           0.02104308702785022,
           181.0209730908661,
           508.7101637132172,
           579.8002073523412,
           0.059744214151181176,
           386.75802932892697,
           217.8255788823657,
           260.0481088385659,
           249.43838492434614,
           0.14563498606078698,
           0.0000017607634505265234,
           0.042694491678894345,
           0.027066777999537724,
           0.07701419152299963,
           556.9992304810299,
           0.04392554857437399,
           527.9306580243756,
           735.816814258077,
           0.09446794746765726,
           0.017535344475639883,
           741.7729952428786,
           515.5425279420814,
           0.011319490302982956,
           0.047587316014465045,
           648.5516503811414
          ],
          "coloraxis": "coloraxis",
          "symbol": "circle"
         },
         "mode": "markers",
         "name": "",
         "scene": "scene",
         "showlegend": false,
         "type": "scatter3d",
         "x": [
          54.83637810234373,
          178.90169938107402,
          -72.52841044102114,
          66.56309516848228,
          100.40644502781942,
          -70.13880096812585,
          -117.07009904296099,
          -99.02779448390704,
          -13.077713485336773,
          -151.99584774628394,
          6.2066703170818585,
          -6.491202018127268,
          30.962057226222043,
          116.82450940214653,
          109.01512559317837,
          110.32113995178435,
          130.99504447491654,
          67.68197101861034,
          96.6076973997678,
          74.27922559992112,
          31.224489046412344,
          -10.444423322880112,
          -142.88843669961958,
          -41.76928110761145,
          22.62506345896577,
          -128.7841880639669,
          39.38946141476541,
          -126.28493570957514,
          -11.165606227294006,
          100.31042448512642,
          145.75169018127616,
          54.52320167016174,
          116.41696935584866,
          15.76604431575953,
          9.22908749576959,
          -41.075887021447244,
          -135.6987732550498,
          42.32561381496532,
          172.19513051015952,
          130.8636244379856,
          -44.737993889163874,
          141.4832109954101,
          -104.79854388113318,
          -76.0961961726606,
          -76.67709964710356,
          -131.67078349672212,
          29.038709896506646,
          86.07798986582355,
          58.20725016944556,
          -168.15282031136377,
          -46.83525629781272,
          145.34110531553813,
          43.94940750667388,
          59.868492615890375,
          -116.78600438973218,
          121.2581929589332,
          -28.6831367678881,
          -118.61465985739046,
          -159.46415397495485,
          -23.11026907769326,
          -96.48422937700047,
          -113.73259848123016,
          -156.44703847574306,
          -25.634525370057077,
          -22.831536026528624,
          55.68987859706124,
          127.95521657893283,
          -101.45130527358135,
          99.24684406012625,
          129.885402142801,
          -65.44699956499525,
          14.165721138415421,
          -38.3489080568757,
          135.78150496353135,
          -8.640270908982302,
          -179.83312475456526,
          -84.61645050158407,
          134.66238397151898,
          -15.992145125180457,
          -60.718280939013,
          112.0078381528865,
          123.74022350209748,
          -5.109409365984732,
          -6.454714740563446,
          -75.89728527910813,
          -143.60688031242842,
          3.571981359620395,
          -79.93052127350157,
          -92.624306460562,
          20.754453812505744,
          -136.07506154715009,
          70.78298395985922,
          48.52184478737175,
          49.21714957432849,
          -77.78182772899002,
          -2.1518604728767343,
          -87.93273718343598,
          37.78532726132761,
          123.45126137273957,
          17.11493582696687,
          65.8020400690084,
          -56.99907934695801,
          160.75471965015674,
          -66.7536345360136,
          -44.69288848537062,
          84.59152694233518,
          -125.04804726111117,
          144.41167951672145,
          109.84819456817314,
          78.9801132606745,
          -76.07117178059681,
          -140.8553449892292,
          -113.95799476616003,
          79.42381816343988,
          -130.6647359751934,
          -161.47359768626262,
          -158.55544251793702,
          -126.0134129922534,
          -9.481878428451523,
          42.07081525422046,
          -9.669942272270845,
          -9.467515988708755,
          -126.41979752232069,
          15.667399604583522,
          90.02787916054376,
          -12.82776620330094,
          138.06011442258557,
          -18.809253156659878,
          -25.525801928283215,
          17.39000917833212,
          147.23452874521064,
          -118.00057664360773,
          -50.283779016380635,
          -183.8653746288272,
          20.548919250947023,
          -137.56952449926607,
          105.67831729812815,
          -133.3374584723466,
          26.12554461299382,
          -43.02573962970175,
          128.4968031485746,
          -95.4050962596483,
          -118.48942452143123,
          91.8887437089362,
          0.4271410461722098,
          141.46804655464513,
          130.6929295062239,
          34.26834419001045,
          -109.45528165321723,
          -159.87603932476986,
          48.514194079301035,
          -111.38609662848214,
          101.71003713477222,
          70.60245673918945,
          58.814822767927524,
          -100.00635196763432,
          -175.682474109569,
          -73.88445858318869,
          66.52125115623392,
          -22.422001069026408,
          -22.266185504428904,
          -58.830666302392444,
          31.31856693107764,
          -173.02471282861768,
          -2.188664400758398,
          64.96819070817725,
          80.32035171532601,
          -3.760432263823162,
          115.96177589875305,
          12.152441987935333,
          99.81485257234925,
          31.16614788390234,
          33.80425900066135,
          24.420200086782216,
          94.74856753950166,
          73.98682846200569,
          90.34435087076946,
          43.945109896562855,
          -0.14424869759471903,
          -56.12661376769802,
          79.44548136900187,
          -70.91446309124484,
          -105.6368090246369,
          172.27130780616676,
          129.36673093288255,
          145.62721903613038,
          72.35869393245639,
          -130.7837903263037
         ],
         "y": [
          120.44859280472213,
          501.1417384492124,
          99.76107599931674,
          265.29775288470364,
          537.6529645632652,
          -298.6240624110721,
          -4.070646617999728,
          152.39782040376508,
          360.7320210336302,
          -368.70014579622483,
          376.16879105815656,
          -125.4470415927027,
          203.7395112347308,
          -350.64809773925344,
          151.5687718472119,
          -579.1081028461468,
          -464.3125653194371,
          -542.6575696438929,
          523.5799389543809,
          227.91637495867076,
          -389.094587937319,
          -43.248492023143854,
          350.84634368434195,
          473.2591278569421,
          309.32044146064936,
          76.52083159586459,
          -477.68364986958323,
          370.255046928168,
          66.51198259291175,
          -227.48116016043502,
          -405.5708614138899,
          166.50416436988598,
          508.8331376102226,
          -466.41817994693594,
          -113.96128256735119,
          28.844049062547356,
          363.21238547910866,
          -137.14271894298304,
          -417.3855012082857,
          492.350080553166,
          -426.401839032013,
          537.004196992775,
          444.76517119517985,
          -178.99182826165634,
          544.5046521034267,
          -322.03298744090444,
          556.2367792249486,
          31.78232212303942,
          558.2897693243835,
          95.68187578112145,
          132.91994001748787,
          105.6081968802365,
          -446.85013384194417,
          -490.3772769306139,
          -580.4320405949252,
          156.830240003648,
          -428.77254259979713,
          -511.0984345065148,
          -157.2073793870269,
          300.40098959366105,
          -478.3201959452825,
          548.6742110758385,
          -432.07619868365225,
          -496.75438458534575,
          -17.442176510996887,
          483.62671041608587,
          430.9782363754698,
          201.9195419799404,
          -216.34298175668312,
          269.62058918048683,
          -152.95263405437697,
          313.5504009353872,
          473.1443587377448,
          558.7980223836071,
          316.1387690168085,
          173.4878302890147,
          -336.72092610113896,
          189.96032040705018,
          -395.2932996593091,
          169.58286327194617,
          -417.35191363451685,
          -270.7537968671337,
          492.20804663414947,
          436.1573054466869,
          365.58624301836176,
          -471.76133464729764,
          -299.5594543576967,
          -393.00843519932994,
          -403.0433941751806,
          153.79347919472934,
          -34.356547971215264,
          457.4341747755932,
          26.08959505921257,
          -287.63443051149477,
          597.268821495767,
          -227.0607093047904,
          596.6843289082467,
          603.5999638672802,
          123.1862245721843,
          203.5871839276498,
          548.0958944632134,
          -231.3656572481941,
          -299.30105186333884,
          503.77278190736047,
          -5.557561973903489,
          -55.87190444913881,
          -315.2272913451902,
          437.46293756217733,
          -575.663028441503,
          190.68777866481048,
          287.92819130286534,
          560.3154690968781,
          -475.4103759578424,
          508.5426346289494,
          286.7626167098149,
          289.70653384067714,
          -226.44401247373128,
          464.9787701950356,
          289.5964205977775,
          -511.8487710598622,
          265.6481275649403,
          187.58315126773368,
          -213.94358094516474,
          -126.69366446944593,
          -341.07848370810495,
          -519.9458534845887,
          -141.74505427155952,
          448.34967385263894,
          423.10513181711417,
          247.20654300745423,
          130.42200288339313,
          193.09241079129185,
          149.52756264781965,
          -329.7941806160019,
          -55.25884618445684,
          384.3291255554607,
          46.37625859679349,
          -65.10111357396488,
          -438.89032865150864,
          -553.3589784521082,
          -274.53748645186624,
          -198.03948777155733,
          -538.371057448788,
          569.5594594381084,
          30.257249055843772,
          -313.6941261270062,
          -235.8209564655366,
          -108.17605956122611,
          421.9599093589504,
          517.4422022683812,
          -332.38613902205253,
          106.4956309121493,
          143.24633202140694,
          -34.12057899995682,
          184.62143662621656,
          -435.02589143029587,
          -396.85159762873957,
          -570.142932003591,
          -288.4878727834231,
          -46.89070290578172,
          390.6459308221872,
          11.33954999001594,
          -516.4895792953632,
          -288.2538185759021,
          159.32342913157868,
          -326.24805922167116,
          428.8799369387209,
          -559.7627328221708,
          10.224396150157531,
          360.0796264567475,
          525.2641773828634,
          268.70511650597473,
          -321.8933899087222,
          -136.26549914369832,
          122.00888228049166,
          -281.7920196297936,
          512.5465024058481,
          503.1064331380205,
          507.3638008968319,
          -64.91169997048155,
          -93.70398846888759,
          -59.39934837524993,
          560.0582455223023,
          -200.86598057940193,
          122.5447027282836,
          164.07818872198482,
          -463.84655087581666,
          24.11743249066467
         ],
         "z": [
          41.81711529742364,
          -64.92852050553086,
          47.117176373530526,
          -82.43274686823972,
          68.39825281823056,
          18.654842718942092,
          -113.32698642200545,
          -135.40314039758562,
          94.64335065649306,
          -88.28164769281672,
          -170.62644705141702,
          -10.057594757718789,
          11.341536903756207,
          -103.62067643961717,
          -149.6626206783163,
          37.72639576003888,
          -1.1362570254726734,
          -69.50164498571621,
          -84.33564463390528,
          127.34257678229875,
          17.939182357614186,
          -85.13357656407297,
          92.3054821869174,
          105.88520461292086,
          75.85882029008013,
          31.84428525502713,
          -135.14551366552809,
          -74.9315796755809,
          26.850607428286906,
          123.05296432421528,
          39.97637059005859,
          -10.823529473374407,
          122.47735473940207,
          -78.09417950419343,
          -174.79486460244127,
          17.510908907663577,
          10.127472768310668,
          -39.17233474477763,
          -9.794087325954422,
          119.07316161634355,
          21.238682517564342,
          -17.216320752996182,
          77.10905183799821,
          52.06129547936351,
          107.72405972071925,
          -60.17873192676308,
          -99.9432112699143,
          -6.787744959987435,
          -15.886816989120064,
          25.0641981444721,
          -111.19400387468215,
          -80.219642462579,
          8.928831413130752,
          -19.610226109862822,
          54.92032952995834,
          42.19558477811097,
          52.02543487545026,
          90.60264365420903,
          13.801958089333255,
          -175.95576450748754,
          -100.15952550444078,
          103.4852313459748,
          3.0519487565184704,
          -35.452900180629285,
          -172.21532617976857,
          -174.14505590869135,
          6.293918082800417,
          9.985855097502196,
          -121.84627371812327,
          -4.606749895521489,
          45.92106738703069,
          76.44819968417528,
          69.10299739470452,
          42.76668558692705,
          -126.26965087317066,
          58.70372867181703,
          28.489996057993835,
          88.90203152244214,
          31.122902613370456,
          -119.85548293590385,
          -44.20752405886529,
          82.890357931106,
          20.503489002713593,
          1.1826360879977926,
          -159.91012304641504,
          -74.97531404579591,
          119.1776611603189,
          80.9608013316938,
          61.058010755227315,
          85.20321118259261,
          86.12765695916983,
          -135.39025725479877,
          132.07635082686164,
          2.474781372237743,
          -13.096602252000366,
          -172.00752938212167,
          -23.893387671205517,
          -16.59719226562285,
          -131.95159106687422,
          -128.70373903277272,
          38.02637649495759,
          118.66043473654997,
          61.61199162567124,
          -22.768661621844444,
          -115.04559456821437,
          -40.85949487407956,
          -69.1207190045179,
          33.52157294734664,
          -27.802098027135315,
          82.15891148092788,
          -43.86924986458695,
          -23.167894483474555,
          -82.22296433379665,
          -18.8697530658616,
          -29.954031676231097,
          -93.30021181592359,
          99.50463823699118,
          -63.02323533991992,
          -63.77432208959854,
          117.23456982719046,
          22.162867261587195,
          70.54170905352476,
          -89.69319086265237,
          -69.23096286682929,
          21.065288338235263,
          122.22863694481305,
          -22.724375888310362,
          33.0741061005686,
          48.169058360347435,
          62.02285042504724,
          -91.3731115385965,
          132.131882368692,
          -166.56260857110118,
          -24.11891123267455,
          -6.729890258270899,
          55.854521275486235,
          125.97252228607272,
          84.77368638098818,
          -166.1343461719731,
          -88.42865743822497,
          66.37463145126742,
          -116.53425215533883,
          25.520839323911304,
          74.68724495604545,
          121.38542125004477,
          -28.504731207404717,
          29.934114425846616,
          -107.1836418663557,
          57.55352314840911,
          104.90556420722754,
          -51.41301668451939,
          111.09016643030685,
          -127.96091098084892,
          -134.1701572795382,
          41.525166246413164,
          -29.058803012867997,
          61.711417390696454,
          73.174793830883,
          65.80533880862083,
          -19.925324140209938,
          -158.62658182624511,
          -39.8419486060435,
          15.842387556197451,
          -69.73524790305689,
          86.04854857065362,
          60.22992857939079,
          -136.27696652540524,
          14.508909669312686,
          -92.04576269761785,
          -14.703079517070535,
          -89.72868238902016,
          -117.18569945306254,
          -17.19363771185928,
          31.681014549183942,
          71.2868145204639,
          -57.57422577862198,
          57.26699401907524,
          128.2582506195928,
          -119.8639062500506,
          -16.161279280262107,
          -83.14674588936835,
          94.50078783184193,
          -35.75316271860319,
          -63.78140776607282,
          -24.32404547684689,
          98.57326551823309,
          85.20266698344102,
          90.33835933100312
         ]
        }
       ],
       "layout": {
        "coloraxis": {
         "colorbar": {
          "title": {
           "text": "color"
          }
         },
         "colorscale": [
          [
           0,
           "#0d0887"
          ],
          [
           0.1111111111111111,
           "#46039f"
          ],
          [
           0.2222222222222222,
           "#7201a8"
          ],
          [
           0.3333333333333333,
           "#9c179e"
          ],
          [
           0.4444444444444444,
           "#bd3786"
          ],
          [
           0.5555555555555556,
           "#d8576b"
          ],
          [
           0.6666666666666666,
           "#ed7953"
          ],
          [
           0.7777777777777778,
           "#fb9f3a"
          ],
          [
           0.8888888888888888,
           "#fdca26"
          ],
          [
           1,
           "#f0f921"
          ]
         ]
        },
        "legend": {
         "tracegroupgap": 0
        },
        "margin": {
         "t": 60
        },
        "scene": {
         "domain": {
          "x": [
           0,
           1
          ],
          "y": [
           0,
           1
          ]
         },
         "xaxis": {
          "title": {
           "text": "x"
          }
         },
         "yaxis": {
          "title": {
           "text": "y"
          }
         },
         "zaxis": {
          "title": {
           "text": "z"
          }
         }
        },
        "template": {
         "data": {
          "bar": [
           {
            "error_x": {
             "color": "#2a3f5f"
            },
            "error_y": {
             "color": "#2a3f5f"
            },
            "marker": {
             "line": {
              "color": "#E5ECF6",
              "width": 0.5
             },
             "pattern": {
              "fillmode": "overlay",
              "size": 10,
              "solidity": 0.2
             }
            },
            "type": "bar"
           }
          ],
          "barpolar": [
           {
            "marker": {
             "line": {
              "color": "#E5ECF6",
              "width": 0.5
             },
             "pattern": {
              "fillmode": "overlay",
              "size": 10,
              "solidity": 0.2
             }
            },
            "type": "barpolar"
           }
          ],
          "carpet": [
           {
            "aaxis": {
             "endlinecolor": "#2a3f5f",
             "gridcolor": "white",
             "linecolor": "white",
             "minorgridcolor": "white",
             "startlinecolor": "#2a3f5f"
            },
            "baxis": {
             "endlinecolor": "#2a3f5f",
             "gridcolor": "white",
             "linecolor": "white",
             "minorgridcolor": "white",
             "startlinecolor": "#2a3f5f"
            },
            "type": "carpet"
           }
          ],
          "choropleth": [
           {
            "colorbar": {
             "outlinewidth": 0,
             "ticks": ""
            },
            "type": "choropleth"
           }
          ],
          "contour": [
           {
            "colorbar": {
             "outlinewidth": 0,
             "ticks": ""
            },
            "colorscale": [
             [
              0,
              "#0d0887"
             ],
             [
              0.1111111111111111,
              "#46039f"
             ],
             [
              0.2222222222222222,
              "#7201a8"
             ],
             [
              0.3333333333333333,
              "#9c179e"
             ],
             [
              0.4444444444444444,
              "#bd3786"
             ],
             [
              0.5555555555555556,
              "#d8576b"
             ],
             [
              0.6666666666666666,
              "#ed7953"
             ],
             [
              0.7777777777777778,
              "#fb9f3a"
             ],
             [
              0.8888888888888888,
              "#fdca26"
             ],
             [
              1,
              "#f0f921"
             ]
            ],
            "type": "contour"
           }
          ],
          "contourcarpet": [
           {
            "colorbar": {
             "outlinewidth": 0,
             "ticks": ""
            },
            "type": "contourcarpet"
           }
          ],
          "heatmap": [
           {
            "colorbar": {
             "outlinewidth": 0,
             "ticks": ""
            },
            "colorscale": [
             [
              0,
              "#0d0887"
             ],
             [
              0.1111111111111111,
              "#46039f"
             ],
             [
              0.2222222222222222,
              "#7201a8"
             ],
             [
              0.3333333333333333,
              "#9c179e"
             ],
             [
              0.4444444444444444,
              "#bd3786"
             ],
             [
              0.5555555555555556,
              "#d8576b"
             ],
             [
              0.6666666666666666,
              "#ed7953"
             ],
             [
              0.7777777777777778,
              "#fb9f3a"
             ],
             [
              0.8888888888888888,
              "#fdca26"
             ],
             [
              1,
              "#f0f921"
             ]
            ],
            "type": "heatmap"
           }
          ],
          "heatmapgl": [
           {
            "colorbar": {
             "outlinewidth": 0,
             "ticks": ""
            },
            "colorscale": [
             [
              0,
              "#0d0887"
             ],
             [
              0.1111111111111111,
              "#46039f"
             ],
             [
              0.2222222222222222,
              "#7201a8"
             ],
             [
              0.3333333333333333,
              "#9c179e"
             ],
             [
              0.4444444444444444,
              "#bd3786"
             ],
             [
              0.5555555555555556,
              "#d8576b"
             ],
             [
              0.6666666666666666,
              "#ed7953"
             ],
             [
              0.7777777777777778,
              "#fb9f3a"
             ],
             [
              0.8888888888888888,
              "#fdca26"
             ],
             [
              1,
              "#f0f921"
             ]
            ],
            "type": "heatmapgl"
           }
          ],
          "histogram": [
           {
            "marker": {
             "pattern": {
              "fillmode": "overlay",
              "size": 10,
              "solidity": 0.2
             }
            },
            "type": "histogram"
           }
          ],
          "histogram2d": [
           {
            "colorbar": {
             "outlinewidth": 0,
             "ticks": ""
            },
            "colorscale": [
             [
              0,
              "#0d0887"
             ],
             [
              0.1111111111111111,
              "#46039f"
             ],
             [
              0.2222222222222222,
              "#7201a8"
             ],
             [
              0.3333333333333333,
              "#9c179e"
             ],
             [
              0.4444444444444444,
              "#bd3786"
             ],
             [
              0.5555555555555556,
              "#d8576b"
             ],
             [
              0.6666666666666666,
              "#ed7953"
             ],
             [
              0.7777777777777778,
              "#fb9f3a"
             ],
             [
              0.8888888888888888,
              "#fdca26"
             ],
             [
              1,
              "#f0f921"
             ]
            ],
            "type": "histogram2d"
           }
          ],
          "histogram2dcontour": [
           {
            "colorbar": {
             "outlinewidth": 0,
             "ticks": ""
            },
            "colorscale": [
             [
              0,
              "#0d0887"
             ],
             [
              0.1111111111111111,
              "#46039f"
             ],
             [
              0.2222222222222222,
              "#7201a8"
             ],
             [
              0.3333333333333333,
              "#9c179e"
             ],
             [
              0.4444444444444444,
              "#bd3786"
             ],
             [
              0.5555555555555556,
              "#d8576b"
             ],
             [
              0.6666666666666666,
              "#ed7953"
             ],
             [
              0.7777777777777778,
              "#fb9f3a"
             ],
             [
              0.8888888888888888,
              "#fdca26"
             ],
             [
              1,
              "#f0f921"
             ]
            ],
            "type": "histogram2dcontour"
           }
          ],
          "mesh3d": [
           {
            "colorbar": {
             "outlinewidth": 0,
             "ticks": ""
            },
            "type": "mesh3d"
           }
          ],
          "parcoords": [
           {
            "line": {
             "colorbar": {
              "outlinewidth": 0,
              "ticks": ""
             }
            },
            "type": "parcoords"
           }
          ],
          "pie": [
           {
            "automargin": true,
            "type": "pie"
           }
          ],
          "scatter": [
           {
            "fillpattern": {
             "fillmode": "overlay",
             "size": 10,
             "solidity": 0.2
            },
            "type": "scatter"
           }
          ],
          "scatter3d": [
           {
            "line": {
             "colorbar": {
              "outlinewidth": 0,
              "ticks": ""
             }
            },
            "marker": {
             "colorbar": {
              "outlinewidth": 0,
              "ticks": ""
             }
            },
            "type": "scatter3d"
           }
          ],
          "scattercarpet": [
           {
            "marker": {
             "colorbar": {
              "outlinewidth": 0,
              "ticks": ""
             }
            },
            "type": "scattercarpet"
           }
          ],
          "scattergeo": [
           {
            "marker": {
             "colorbar": {
              "outlinewidth": 0,
              "ticks": ""
             }
            },
            "type": "scattergeo"
           }
          ],
          "scattergl": [
           {
            "marker": {
             "colorbar": {
              "outlinewidth": 0,
              "ticks": ""
             }
            },
            "type": "scattergl"
           }
          ],
          "scattermapbox": [
           {
            "marker": {
             "colorbar": {
              "outlinewidth": 0,
              "ticks": ""
             }
            },
            "type": "scattermapbox"
           }
          ],
          "scatterpolar": [
           {
            "marker": {
             "colorbar": {
              "outlinewidth": 0,
              "ticks": ""
             }
            },
            "type": "scatterpolar"
           }
          ],
          "scatterpolargl": [
           {
            "marker": {
             "colorbar": {
              "outlinewidth": 0,
              "ticks": ""
             }
            },
            "type": "scatterpolargl"
           }
          ],
          "scatterternary": [
           {
            "marker": {
             "colorbar": {
              "outlinewidth": 0,
              "ticks": ""
             }
            },
            "type": "scatterternary"
           }
          ],
          "surface": [
           {
            "colorbar": {
             "outlinewidth": 0,
             "ticks": ""
            },
            "colorscale": [
             [
              0,
              "#0d0887"
             ],
             [
              0.1111111111111111,
              "#46039f"
             ],
             [
              0.2222222222222222,
              "#7201a8"
             ],
             [
              0.3333333333333333,
              "#9c179e"
             ],
             [
              0.4444444444444444,
              "#bd3786"
             ],
             [
              0.5555555555555556,
              "#d8576b"
             ],
             [
              0.6666666666666666,
              "#ed7953"
             ],
             [
              0.7777777777777778,
              "#fb9f3a"
             ],
             [
              0.8888888888888888,
              "#fdca26"
             ],
             [
              1,
              "#f0f921"
             ]
            ],
            "type": "surface"
           }
          ],
          "table": [
           {
            "cells": {
             "fill": {
              "color": "#EBF0F8"
             },
             "line": {
              "color": "white"
             }
            },
            "header": {
             "fill": {
              "color": "#C8D4E3"
             },
             "line": {
              "color": "white"
             }
            },
            "type": "table"
           }
          ]
         },
         "layout": {
          "annotationdefaults": {
           "arrowcolor": "#2a3f5f",
           "arrowhead": 0,
           "arrowwidth": 1
          },
          "autotypenumbers": "strict",
          "coloraxis": {
           "colorbar": {
            "outlinewidth": 0,
            "ticks": ""
           }
          },
          "colorscale": {
           "diverging": [
            [
             0,
             "#8e0152"
            ],
            [
             0.1,
             "#c51b7d"
            ],
            [
             0.2,
             "#de77ae"
            ],
            [
             0.3,
             "#f1b6da"
            ],
            [
             0.4,
             "#fde0ef"
            ],
            [
             0.5,
             "#f7f7f7"
            ],
            [
             0.6,
             "#e6f5d0"
            ],
            [
             0.7,
             "#b8e186"
            ],
            [
             0.8,
             "#7fbc41"
            ],
            [
             0.9,
             "#4d9221"
            ],
            [
             1,
             "#276419"
            ]
           ],
           "sequential": [
            [
             0,
             "#0d0887"
            ],
            [
             0.1111111111111111,
             "#46039f"
            ],
            [
             0.2222222222222222,
             "#7201a8"
            ],
            [
             0.3333333333333333,
             "#9c179e"
            ],
            [
             0.4444444444444444,
             "#bd3786"
            ],
            [
             0.5555555555555556,
             "#d8576b"
            ],
            [
             0.6666666666666666,
             "#ed7953"
            ],
            [
             0.7777777777777778,
             "#fb9f3a"
            ],
            [
             0.8888888888888888,
             "#fdca26"
            ],
            [
             1,
             "#f0f921"
            ]
           ],
           "sequentialminus": [
            [
             0,
             "#0d0887"
            ],
            [
             0.1111111111111111,
             "#46039f"
            ],
            [
             0.2222222222222222,
             "#7201a8"
            ],
            [
             0.3333333333333333,
             "#9c179e"
            ],
            [
             0.4444444444444444,
             "#bd3786"
            ],
            [
             0.5555555555555556,
             "#d8576b"
            ],
            [
             0.6666666666666666,
             "#ed7953"
            ],
            [
             0.7777777777777778,
             "#fb9f3a"
            ],
            [
             0.8888888888888888,
             "#fdca26"
            ],
            [
             1,
             "#f0f921"
            ]
           ]
          },
          "colorway": [
           "#636efa",
           "#EF553B",
           "#00cc96",
           "#ab63fa",
           "#FFA15A",
           "#19d3f3",
           "#FF6692",
           "#B6E880",
           "#FF97FF",
           "#FECB52"
          ],
          "font": {
           "color": "#2a3f5f"
          },
          "geo": {
           "bgcolor": "white",
           "lakecolor": "white",
           "landcolor": "#E5ECF6",
           "showlakes": true,
           "showland": true,
           "subunitcolor": "white"
          },
          "hoverlabel": {
           "align": "left"
          },
          "hovermode": "closest",
          "mapbox": {
           "style": "light"
          },
          "paper_bgcolor": "white",
          "plot_bgcolor": "#E5ECF6",
          "polar": {
           "angularaxis": {
            "gridcolor": "white",
            "linecolor": "white",
            "ticks": ""
           },
           "bgcolor": "#E5ECF6",
           "radialaxis": {
            "gridcolor": "white",
            "linecolor": "white",
            "ticks": ""
           }
          },
          "scene": {
           "xaxis": {
            "backgroundcolor": "#E5ECF6",
            "gridcolor": "white",
            "gridwidth": 2,
            "linecolor": "white",
            "showbackground": true,
            "ticks": "",
            "zerolinecolor": "white"
           },
           "yaxis": {
            "backgroundcolor": "#E5ECF6",
            "gridcolor": "white",
            "gridwidth": 2,
            "linecolor": "white",
            "showbackground": true,
            "ticks": "",
            "zerolinecolor": "white"
           },
           "zaxis": {
            "backgroundcolor": "#E5ECF6",
            "gridcolor": "white",
            "gridwidth": 2,
            "linecolor": "white",
            "showbackground": true,
            "ticks": "",
            "zerolinecolor": "white"
           }
          },
          "shapedefaults": {
           "line": {
            "color": "#2a3f5f"
           }
          },
          "ternary": {
           "aaxis": {
            "gridcolor": "white",
            "linecolor": "white",
            "ticks": ""
           },
           "baxis": {
            "gridcolor": "white",
            "linecolor": "white",
            "ticks": ""
           },
           "bgcolor": "#E5ECF6",
           "caxis": {
            "gridcolor": "white",
            "linecolor": "white",
            "ticks": ""
           }
          },
          "title": {
           "x": 0.05
          },
          "xaxis": {
           "automargin": true,
           "gridcolor": "white",
           "linecolor": "white",
           "ticks": "",
           "title": {
            "standoff": 15
           },
           "zerolinecolor": "white",
           "zerolinewidth": 2
          },
          "yaxis": {
           "automargin": true,
           "gridcolor": "white",
           "linecolor": "white",
           "ticks": "",
           "title": {
            "standoff": 15
           },
           "zerolinecolor": "white",
           "zerolinewidth": 2
          }
         }
        }
       }
      }
     },
     "metadata": {},
     "output_type": "display_data"
    }
   ],
   "source": [
    "fig = px.scatter_3d(x=df[\"pos_scatt\", \"1\"][::skip],y=df[\"pos_scatt\", \"3\"][::skip], z=df[\"pos_scatt\", \"2\"][::skip], color=df[\"w_event_rate\"][::skip])\n",
    "fig.show()"
   ]
  },
  {
   "cell_type": "markdown",
   "metadata": {},
   "source": [
    "### Angle sampling"
   ]
  },
  {
   "cell_type": "code",
   "execution_count": 99,
   "metadata": {},
   "outputs": [
    {
     "data": {
      "image/png": "[encoded data removed]",
      "text/plain": [
       "<Figure size 640x480 with 1 Axes>"
      ]
     },
     "metadata": {},
     "output_type": "display_data"
    }
   ],
   "source": [
    "plt.bar(NuMI_angle_bins, NuMI_angle_dist/np.sum(NuMI_angle_dist), width=1, label=\"Flux file\")\n",
    "plt.hist(df['neutrino_angle'], histtype='step', bins = NuMI_angle_bins, color='orange', density=True, label=\"Reco flux\") # weights = df['w_event_rate']\n",
    "plt.yscale('log')\n",
    "plt.xlabel('Neutrino Angle (degrees)')\n",
    "plt.legend()\n",
    "plt.show()"
   ]
  },
  {
   "cell_type": "markdown",
   "metadata": {},
   "source": [
    "### Distance sampling"
   ]
  },
  {
   "cell_type": "code",
   "execution_count": 100,
   "metadata": {},
   "outputs": [],
   "source": [
    "scale_mc = len(df['distance'].values)/sum(df['w_event_rate'])\n",
    "scale_numi = np.sum(baseline_hist)\n",
    "\n",
    "factor = scale_mc/scale_numi"
   ]
  },
  {
   "cell_type": "code",
   "execution_count": 101,
   "metadata": {},
   "outputs": [
    {
     "data": {
      "text/plain": [
       "<matplotlib.legend.Legend at 0x162c4cb80>"
      ]
     },
     "execution_count": 101,
     "metadata": {},
     "output_type": "execute_result"
    },
    {
     "data": {
      "image/png": "[encoded data removed]",
      "text/plain": [
       "<Figure size 640x480 with 1 Axes>"
      ]
     },
     "metadata": {},
     "output_type": "display_data"
    }
   ],
   "source": [
    "baseline_centres = (baseline_bins[1:] + baseline_bins[:-1]) / 2 * 100\n",
    "plt.bar(baseline_centres, baseline_hist*factor, width=200, label=\"Flux file\")\n",
    "\n",
    "scale_mc = len(df['distance'].values)\n",
    "scale_numi = np.sum(baseline_hist)\n",
    "\n",
    "plt.hist(df['distance'].values, histtype='step', bins=baseline_centres, color='orange', density=True, weights = df['w_event_rate'], label=\"Reco flux\") #, )\n",
    "plt.yscale('log')\n",
    "plt.xlabel('Distance (cm)')\n",
    "plt.legend()"
   ]
  },
  {
   "cell_type": "markdown",
   "metadata": {},
   "source": [
    "<!-- ## Printing these particles into a LArSoft-readable format -->"
   ]
  },
  {
   "cell_type": "code",
   "execution_count": 102,
   "metadata": {},
   "outputs": [
    {
     "name": "stdout",
     "output_type": "stream",
     "text": [
      "WARNING: HEPevt is not a lossless format -- you will lose the event weights. If you want to force-print weights, use the hepevt_legacy format instead. Otherwise, please set hep_unweight=True and set the desired number of unweighted events.\n",
      "WARNING::WriterHEPEVT::WriterHEPEVT: HEPEVT format is outdated. Please use HepMC3 format instead.\n"
     ]
    }
   ],
   "source": [
    "print = False\n",
    "if print:\n",
    "    printer = dn.printer.Printer(df, data_path='./output_files/NuMI')\n",
    "    # printing a file in hepevt format\n",
    "    printer.print_events_to_hepevt()\n",
    "    # printing a file in hepmc3 format\n",
    "    printer.print_events_to_hepmc3()\n",
    "    # printing a file in hepevt legacy format\n",
    "    # this format retains event weight!\n",
    "    printer.print_events_to_hepevt_legacy()"
   ]
  },
  {
   "cell_type": "code",
   "execution_count": null,
   "metadata": {},
   "outputs": [],
   "source": []
  }
 ],
 "metadata": {
  "kernelspec": {
   "display_name": "DarkNews_clean",
   "language": "python",
   "name": "python3"
  },
  "language_info": {
   "codemirror_mode": {
    "name": "ipython",
    "version": 3
   },
   "file_extension": ".py",
   "mimetype": "text/x-python",
   "name": "python",
   "nbconvert_exporter": "python",
   "pygments_lexer": "ipython3",
   "version": "3.10.15"
  }
 },
 "nbformat": 4,
 "nbformat_minor": 2
}
