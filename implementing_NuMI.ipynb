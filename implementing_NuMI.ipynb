{
 "cells": [
  {
   "cell_type": "markdown",
   "metadata": {},
   "source": [
    "# Getting from the DarkNews generator to the detector geometry"
   ]
  },
  {
   "cell_type": "code",
   "execution_count": 92,
   "metadata": {},
   "outputs": [],
   "source": [
    "from DarkNews import const\n",
    "from DarkNews import Cfourvec as Cfv\n",
    "import DarkNews as dn\n",
    "from DarkNews import GenLauncher\n",
    "import importlib.resources as resources\n",
    "import matplotlib.pyplot as plt\n",
    "import plotly as plotly\n",
    "import numpy as np\n",
    "from numpy.random import choice\n",
    "import pandas as pd\n",
    "import plotly.express as px\n",
    "from plotly.graph_objects import Layout\n",
    "import uproot\n",
    "\n",
    "# import geometry_functions  as gf\n",
    "# Set the source directory, where flux and other files are stored (and cannot be hosted \n",
    "# on Github). The path on /exp/uboone/app should be accessible to uBooNE users. \n",
    "source_dir = \"./source/\""
   ]
  },
  {
   "cell_type": "markdown",
   "metadata": {},
   "source": [
    "## Defining the NuMI geometry and parameters"
   ]
  },
  {
   "cell_type": "code",
   "execution_count": 93,
   "metadata": {},
   "outputs": [],
   "source": [
    "# Defining NuMI beam parameters in cm\n",
    "NuMI_decay_pipe_radius = 1e2 # cm, from https://ar5iv.labs.arxiv.org/html/1507.06690\n",
    "NuMI_decay_pipe_length = 675e2 # cm, from https://ar5iv.labs.arxiv.org/html/1507.06690\n",
    "NuMI_full_length = 10e2 + 30e2 + NuMI_decay_pipe_length + 2.5e2 # cm, corresponding to 10m horn 1, 30m horn 2, 675m decay pipe, 2.5m absorber\n",
    "\n",
    "NuMI_target = [0,0,0]\n",
    "NuMI_absorber = [0,0, NuMI_full_length]\n",
    "\n",
    "# Timing offsets defined in uboone docdb 12290\n",
    "uBNuMIGlobalTimeOffset = 4687.5\n",
    "uBNuMIRandomTimeOffset = 9600\n",
    "\n",
    "# Matrix to convert from NuMI beam cooridinates to the uBooNE detector coordinates\n",
    "numi_coord_matrix =    np.array([\n",
    "                        [ 0.9210385380402568, 0.0227135048039241207, 0.38880857519374290 ],\n",
    "\t                    [0.0000462540012621546684, 0.99829162468141475, -0.0584279894529063024],\n",
    "                        [-0.38947144863934974, 0.0538324139386641073, 0.91946400794392302 ]\n",
    "                        ])\n",
    "\n",
    "def convert_to_numi_beam_coords(x):\n",
    "    matrix = np.linalg.inv(numi_coord_matrix)\n",
    "    x = np.array(x)\n",
    "    x = np.matmul(matrix,x.T).T\n",
    "    x += ub_beam_coords\n",
    "    return x\n",
    "\n",
    "def convert_to_ub_tpc_coords(x):\n",
    "    x = np.array(x)\n",
    "    x -= ub_beam_coords\n",
    "    x = np.matmul(numi_coord_matrix,x.T).T\n",
    "    return x\n",
    "\n",
    "# Position of the uBooNE detector in NuMI beam coordinates\n",
    "ub_beam_coords = np.array([5502, 7259, 67270]) # cm\n",
    "\n",
    "# Timing offsets defined in uboone docdb 12290\n",
    "uBNuMIGlobalTimeOffset = 4687.5\n",
    "uBNuMIRandomTimeOffset = 9600\n",
    "\n",
    "# Importing NuMI flux files\n",
    "# Energy vs baseline distribution\n",
    "NuMI_energies_positions = np.genfromtxt(source_dir+'Fluxes/NuMI_energy_distances.dat', delimiter=' ', skip_header=0)\n",
    "NuMI_energy_nu = NuMI_energies_positions[1:,0]\n",
    "NuMI_distances_nu = NuMI_energies_positions[0,1:]\n",
    "NuMI_e_vs_dist = NuMI_energies_positions[1:,1:]\n",
    "NuMI_enu_max = np.max(NuMI_energy_nu)\n",
    "# Angle-energy flux normalization\n",
    "NuMI_fluxes = np.genfromtxt(source_dir+'Fluxes/NuMI_angle_energy_normalization.dat', delimiter=' ', skip_header=0)\n",
    "NuMI_e_bins_angle = NuMI_fluxes[1:,0]\n",
    "NuMI_th_bins_angle = NuMI_fluxes[0,1:]\n",
    "NuMI_e_vs_angle = NuMI_fluxes[1:,1:]\n",
    "# Neutrino angle (from NuMI beam) distribution\n",
    "NuMI_angle_dist = np.genfromtxt(source_dir+'Fluxes/NuMI_angle_flux.dat', delimiter=' ', skip_header=0)\n",
    "NuMI_angle_bins = NuMI_angle_dist[0,:]\n",
    "NuMI_angle_dist = NuMI_angle_dist[1,:]\n",
    "\n",
    "angle_flux_min = minval = np.min(NuMI_angle_dist[np.nonzero(NuMI_angle_dist)])\n",
    "NuMI_angle_dist = NuMI_angle_dist / angle_flux_min\n",
    "\n",
    "file_run0 = uproot.open(source_dir+'Root/output_uboone_fhc_run0_set1.root')\n",
    "base_line_hist = file_run0['numu/Detsmear/Baseline_numu_CV_TPC;1']\n",
    "baseline_hist, baseline_bins = base_line_hist.to_numpy()"
   ]
  },
  {
   "cell_type": "markdown",
   "metadata": {},
   "source": [
    "## Defining the MicroBooNE/NuMI geometry\n",
    "\n",
    "This follows the implementation in dn.geom for the MicroBooNE cryostat"
   ]
  },
  {
   "cell_type": "code",
   "execution_count": 94,
   "metadata": {},
   "outputs": [],
   "source": [
    "# These functions are taken from the DarkNews repo, and adapted where necessary.\n",
    "# https://github.com/mhostert/DarkNews-generator\n",
    "################## ROTATION FUNCTIONS ######################\n",
    "def dot3(p1, p2):\n",
    "    return p1[0]*p2[0] + p1[1]*p2[1] + p1[2]*p2[2]\n",
    "\n",
    "def normalize_3D_vec(v):\n",
    "    return v / np.sqrt(dot3(v,v))\n",
    "\n",
    "def cross3(p1, p2):\n",
    "    px = p1[1]*p2[2] - p1[2]*p2[1]\n",
    "    py = p1[2]*p2[0] - p1[0]*p2[2]\n",
    "    pz = p1[0]*p2[1] - p1[1]*p2[0]\n",
    "    return np.array([px,py,pz])\n",
    "\n",
    "# rotate v by an angle of theta on the plane perpendicular to k using Rodrigues' rotation formula\n",
    "def rotate_by_theta(v,k,theta):\n",
    "    # we first normalize k\n",
    "    k = normalize_3D_vec(k)\n",
    "    \n",
    "    # Rodrigues' rotation formula\n",
    "    return np.cos(theta) * v + np.sin(theta) * cross3(k,v) + dot3(k,v) * (1 - np.cos(theta)) * k\n",
    "\n",
    "\n",
    "# rotate a 3D-vector v using the same minimum rotation to take vector a into vector b\n",
    "def rotate_similar_to(v,a,b):\n",
    "    # normalize vectors a and b\n",
    "    a = normalize_3D_vec(a)\n",
    "    b = normalize_3D_vec(b)\n",
    "    \n",
    "    # compute normal vector to those and angle\n",
    "    k = cross3(a,b)\n",
    "    theta = np.arccos(dot3(a,b))\n",
    "    \n",
    "    # use previous function to compute new vector\n",
    "    return rotate_by_theta(v,k,theta)\n",
    "\n",
    "def rotate_dataframe(df):\n",
    "    particles = ['P_target','P_recoil','P_decay_N_parent','P_decay_ell_plus','P_decay_ell_minus','P_decay_N_daughter','P_decay_photon','P_projectile']\n",
    "\n",
    "    for particle in particles:\n",
    "        try:\n",
    "            df.loc[:,(particle,['1','2','3'])] = rotate_similar_to(df[particle].to_numpy().T[1:],df.P_projectile.to_numpy().T[1:],df.pos_scatt.to_numpy().T[1:] - df['pos_prod'].to_numpy().T).T\n",
    "        except:\n",
    "            continue\n",
    "\n",
    "    return df\n",
    "\n",
    "def nearest_point_to_ub(scatt_pos):\n",
    "\n",
    "    beam_vec = np.subtract(NuMI_absorber, NuMI_target)\n",
    "    beam_hat = beam_vec / np.linalg.norm(beam_vec)\n",
    "\n",
    "    BNB_vec = np.array([[0,0,0],[0,0,1]])\n",
    "    BNB_vec = convert_to_numi_beam_coords(BNB_vec)\n",
    "    BNB_vec = np.subtract(BNB_vec[1], BNB_vec[0])\n",
    "\n",
    "    # Get the point on the beam closest to the scattering point\n",
    "    p1_vec = scatt_pos - NuMI_target\n",
    "    p1_len = np.linalg.norm(p1_vec)\n",
    "    p1_hat = p1_vec / p1_len\n",
    "\n",
    "    cos_theta = np.dot(p1_hat, beam_hat)\n",
    "    scale = cos_theta * p1_len\n",
    "    scale = np.tile(scale, (3,1)).T\n",
    "\n",
    "    return (beam_hat * scale)\n",
    "\n",
    "\n",
    "def neutrino_nan(E_nu):\n",
    "    final_angles = []\n",
    "    for i in range(len(E_nu)):\n",
    "        e_bins = np.searchsorted(NuMI_e_bins_angle, E_nu[i], side='right')-1\n",
    "        probs_angle = np.ones_like(NuMI_e_vs_angle)\n",
    "\n",
    "        for j in range(np.shape((probs_angle))[1]):\n",
    "            arr = np.asarray([NuMI_e_vs_angle.T[:,e_bins]])\n",
    "            if arr.sum() != 0:\n",
    "                probs_angle[j] = arr\n",
    "        neutrino_angle = choice(NuMI_th_bins_angle, 1, p=probs_angle[e_bins] / probs_angle[e_bins].sum())[0]\n",
    "        final_angles.append(neutrino_angle)\n",
    "    return final_angles\n",
    "\n",
    "def neutrino_random(angle,E_nu):\n",
    "    e_bins = np.searchsorted(NuMI_e_bins_angle, E_nu, side='right')-1\n",
    "    angle_hist = NuMI_e_vs_angle.T[:,e_bins]\n",
    "\n",
    "    th_bin_1 = np.searchsorted(NuMI_angle_bins, angle, side='right')-1\n",
    "    th_bin_2 = np.searchsorted(NuMI_angle_bins, 180-angle, side='right')-1\n",
    "\n",
    "    th_arr = []\n",
    "    weight_arr = []\n",
    "    \n",
    "    search_range = 9\n",
    "    offset = search_range//2 +1\n",
    "    for j in range(search_range):\n",
    "        th_arr.append(NuMI_angle_bins[th_bin_1 +j - 4])\n",
    "        th_arr.append(NuMI_angle_bins[th_bin_2 +j - 4])\n",
    "        \n",
    "        weight_arr.append(NuMI_angle_dist[th_bin_1 +j - 4])\n",
    "        weight_arr.append(NuMI_angle_dist[th_bin_2 +j - 4])\n",
    "\n",
    "    th_arr = np.array(th_arr).T\n",
    "    weight_arr = np.array(weight_arr).T\n",
    "\n",
    "    sum = np.sum(weight_arr, axis=1)\n",
    "    sum = np.tile(sum, (2*search_range, 1)).T\n",
    "    weights = np.array(weight_arr) / sum\n",
    "\n",
    "    if np.isnan(weights).any():\n",
    "        print(weights)\n",
    "    else: print('success')\n",
    "\n",
    "    th_arr = np.array(th_arr)\n",
    "    return  [choice(th_arr[i], 1, p=weights[i])[0] for i in range(len(E_nu))]\n",
    "\n",
    "def neutrino_nan_random_split(angle, E_nu):\n",
    "    return np.where(np.isnan(angle) == True, neutrino_nan(E_nu), neutrino_random(angle, E_nu))\n",
    "\n",
    "\n",
    "def get_neutrino_angle(scatt_pos, length, E_nu):\n",
    "\n",
    "    scatt_pos = convert_to_numi_beam_coords(scatt_pos)\n",
    "    nearest_point = nearest_point_to_ub(scatt_pos)\n",
    "    \n",
    "    dist = np.linalg.norm(scatt_pos - nearest_point, axis=1)\n",
    "\n",
    "    sin_theta = dist/length\n",
    "\n",
    "    theta = np.arcsin(sin_theta)\n",
    "    theta = np.rad2deg(theta)\n",
    "\n",
    "    limit_absorber = np.linalg.norm(scatt_pos - NuMI_absorber, axis=1)\n",
    "\n",
    "    angle_limit_absorber = np.arcsin(np.linalg.norm(scatt_pos - nearest_point, axis=1)/limit_absorber)\n",
    "    angle_limit_absorber = np.rad2deg(angle_limit_absorber) - 15\n",
    "\n",
    "    limit_target = np.linalg.norm(scatt_pos - NuMI_target, axis=1)\n",
    "    angle_limit_target = np.arcsin(np.linalg.norm(scatt_pos - nearest_point, axis=1)/limit_target)\n",
    "    angle_limit_target = np.rad2deg(angle_limit_target)\n",
    "\n",
    "    final_angles = []\n",
    "\n",
    "    n_nan = 0\n",
    "    n_random = 0\n",
    "    n_intended = 0\n",
    "\n",
    "    w1 = []\n",
    "    w2 = []\n",
    "\n",
    "    angle_1 = []\n",
    "    angle_2 = []\n",
    "\n",
    "    for i, angle in enumerate(theta):\n",
    "\n",
    "        if angle < angle_limit_absorber[i]:\n",
    "            final_angles.append(angle)\n",
    "            n_intended += 1\n",
    "        elif np.isnan(angle) == True:\n",
    "            # Sampling the neutrino angle given the energy\n",
    "            n_Ebins = 100\n",
    "            e_bins = np.searchsorted(NuMI_e_bins_angle, E_nu[i], side='right')-1\n",
    "            probs_angle = np.ones_like(NuMI_e_vs_angle)\n",
    "\n",
    "            for j in range(np.shape((probs_angle))[1]):\n",
    "                arr = np.asarray([NuMI_e_vs_angle.T[:,e_bins]])\n",
    "                if arr.sum() != 0:\n",
    "                    probs_angle[j] = arr\n",
    "            neutrino_angle = choice(NuMI_th_bins_angle, 1, p=probs_angle[e_bins] / probs_angle[e_bins].sum())[0]\n",
    "            final_angles.append(neutrino_angle)\n",
    "            n_nan += 1\n",
    "        else:\n",
    "            e_bins = np.searchsorted(NuMI_e_bins_angle, E_nu[i], side='right')-1\n",
    "            angle_hist = NuMI_e_vs_angle.T[:,e_bins]\n",
    "\n",
    "            th_bin_1 = np.searchsorted(NuMI_angle_bins, angle, side='right')-1\n",
    "            th_bin_2 = np.searchsorted(NuMI_angle_bins, 180-angle, side='right')-1\n",
    "\n",
    "            th_arr = []\n",
    "            weight_arr = []\n",
    "            \n",
    "            search_range = 5\n",
    "            offset = search_range//2 +1\n",
    "\n",
    "            for j in range(search_range):\n",
    "                th_arr.append(NuMI_angle_bins[th_bin_1 +j - 4])\n",
    "                th_arr.append(NuMI_angle_bins[th_bin_2 +j - 4])\n",
    "                \n",
    "                weight_arr.append(NuMI_angle_dist[th_bin_1 +j - 4])\n",
    "                weight_arr.append(NuMI_angle_dist[th_bin_2 +j - 4])\n",
    "\n",
    "            sum = np.sum(weight_arr)\n",
    "            weights = np.array(weight_arr)/sum\n",
    "\n",
    "            final_angles.append(choice(th_arr, 1, p=weights)[0])\n",
    "            n_random += 1\n",
    "\n",
    "    print(f'Intended: {n_intended}, Random: {n_random}, NaN: {n_nan}')\n",
    "\n",
    "    x = dist / np.tan(np.deg2rad(final_angles))\n",
    "\n",
    "    beam_hat = [0,0,1]\n",
    "    x_pos = nearest_point - x[:,np.newaxis] * beam_hat\n",
    "\n",
    "    return final_angles, x_pos\n",
    "\n",
    "def microboone_NuMI_geometry(df):\n",
    "\n",
    "    length_events = len(df.index)\n",
    "    nsamples = len(df.index)\n",
    "\n",
    "    detector_box = np.array([[-200, 200], [-200, 200], [-800, 800]])\n",
    "\n",
    "    tries = 0\n",
    "    npoints = 0\n",
    "    events = np.array(3 * [[]])\n",
    "    while npoints < nsamples:\n",
    "\n",
    "        new_detector = dn.geom.Chisel(nsamples=nsamples, box=detector_box)\n",
    "        new_events = new_detector.events[:, new_detector.microboone_cryostat()]\n",
    "        events = np.concatenate((events, new_events), axis=1)\n",
    "\n",
    "        npoints += np.shape(new_events)[1]\n",
    "        tries += nsamples\n",
    "        if tries > 1e3 * nsamples:\n",
    "            raise ValueError(\"Geometry sampled too inefficiently. Wrong setup?\")\n",
    "\n",
    "    # Parameters from Mark -- neutrino time spill, overlapping w Genie BNB\n",
    "    time = uBNuMIGlobalTimeOffset + (uBNuMIRandomTimeOffset) * np.random.rand(nsamples)\n",
    "\n",
    "    # guarantee that array has number of samples asked (nsamples)\n",
    "    df[\"pos_scatt\", \"0\"] = time\n",
    "    df[\"pos_scatt\", \"1\"] = events[0, :nsamples]\n",
    "    df[\"pos_scatt\", \"2\"] = events[1, :nsamples]\n",
    "    df[\"pos_scatt\", \"3\"] = events[2, :nsamples]\n",
    "    \n",
    "    # Sampling the distance given the energy\n",
    "    n_Lbins =  len(NuMI_distances_nu)\n",
    "    E_nu = df[\"P_projectile\",\"0\"].values\n",
    "    e_bins = np.searchsorted(NuMI_energy_nu, E_nu, side='right')-1\n",
    "\n",
    "    bin_width = np.diff(NuMI_energy_nu)\n",
    "    probs_distance = np.ones_like(NuMI_e_vs_dist)\n",
    "\n",
    "    for i in range(np.shape((probs_distance))[0]):\n",
    "        arr = np.asarray([NuMI_e_vs_dist.T[:,e_bins[i]]])\n",
    "        if arr.sum() != 0:\n",
    "            probs_distance[i] = arr\n",
    "    \n",
    "    diffs = np.diff(NuMI_distances_nu)\n",
    "    diffs = np.append(diffs, diffs[-1])\n",
    "    # Assuming distances are uniformly distributed within the bin, we distribute them across the bin.\n",
    "    distances = np.array([choice(NuMI_distances_nu, 1, p=probs_distance[e_bins[i]] / probs_distance[e_bins[i]].sum())[0] + np.random.random()*diffs[e_bins[i]]-diffs[e_bins[i]]/2  for i in range(nsamples)])*1e2\n",
    "\n",
    "    df['distance'] = distances\n",
    "    \n",
    "    # Calculating the production point, given distance\n",
    "\n",
    "    scatt_pos = np.array([df['pos_scatt', '1'].to_numpy(), df['pos_scatt', '2'].to_numpy(), df['pos_scatt', '3'].to_numpy()]).T\n",
    "\n",
    "    neutrino_angle, prod_pos = get_neutrino_angle(scatt_pos, distances, df['P_projectile','0'].to_numpy())\n",
    "    prod_pos = convert_to_ub_tpc_coords(prod_pos)\n",
    "    \n",
    "    df[\"pos_prod\", \"1\"] = prod_pos[:,0]\n",
    "    df[\"pos_prod\", \"2\"] = prod_pos[:,1]\n",
    "    df[\"pos_prod\", \"3\"] = prod_pos[:,2]    \n",
    "    df['neutrino_angle'] = neutrino_angle\n",
    "    \n",
    "    # RESCALE WEIGHTS\n",
    "    # rescale the weights with respect to the distance\n",
    "    # l_baseline_muB - origin is the distance from the horn to the production point\n",
    "    # try using NuMI_decay_pipe_length - beamline_intersection[:,2] instead ???\n",
    "    \n",
    "    # distance_weight = ((NuMI_full_length - prod_point[:,2]) / baseline)**2\n",
    "    numi_vector = np.array([[0,0,0] , [0,0,NuMI_full_length]])\n",
    "    numi_vector = convert_to_ub_tpc_coords(numi_vector)\n",
    "    numi_vector = np.subtract(numi_vector[1], numi_vector[0])\n",
    "    decay_pipe_dist = np.linalg.norm(numi_vector)\n",
    "    distance_weight  = (decay_pipe_dist / distances)**2\n",
    "\n",
    "    df['distance_weight'] = distance_weight\n",
    "\n",
    "    df.w_event_rate *= distance_weight\n",
    "\n",
    "    # rescaling with respect to angle\n",
    "    # # Not sure this is the correct angle distribution???, dont see the 20 or 120 deg peaks    \n",
    "    # e_bins = np.searchsorted(NuMI_e_bins_angle, E_nu, side='right')-1\n",
    "    # n_ebins = len(NuMI_fluxes[0])\n",
    "    # if (n_ebins in e_bins):\n",
    "    #     mask = e_bins >= n_ebins\n",
    "    #     e_bins[mask] = n_ebins - 1\n",
    "    \n",
    "    # th_bins = np.searchsorted(NuMI_th_bins_angle, neutrino_angle, side='right')-1\n",
    "    # n_thbins = len(NuMI_fluxes[:,0])\n",
    "    # if (n_thbins in th_bins):\n",
    "    #     mask = th_bins >= n_thbins\n",
    "    #     th_bins[mask] = n_thbins - 1\n",
    "    \n",
    "    # renorm_flux_angle = np.array([NuMI_fluxes[e_bins[i],th_bins[i]] for i in range(length_events)])/NuMI_fluxes.sum()\n",
    "    # df['angle_weight'] = renorm_flux_angle*100\n",
    "    # df.w_event_rate *= renorm_flux_angle\n",
    "\n",
    "    # rotate momenta\n",
    "    df = rotate_dataframe(df)"
   ]
  },
  {
   "cell_type": "markdown",
   "metadata": {},
   "source": [
    "## Simulating some dark neutrinos"
   ]
  },
  {
   "cell_type": "code",
   "execution_count": 95,
   "metadata": {},
   "outputs": [
    {
     "name": "stdout",
     "output_type": "stream",
     "text": [
      "Directory tree for this run already exists. Overriding it.\n",
      "WARNING: HEPevt is not a lossless format -- you will lose the event weights. If you want to force-print weights, use the hepevt_legacy format instead. Otherwise, please set hep_unweight=True and set the desired number of unweighted events.\n",
      "WARNING::WriterHEPEVT::WriterHEPEVT: HEPEVT format is outdated. Please use HepMC3 format instead.\n"
     ]
    }
   ],
   "source": [
    "kwargs_numi = {  \n",
    "        'neval': 1e3,\n",
    "        'HNLtype': 'dirac',\n",
    "        # Parameters to set output filetype\n",
    "        # Don't use this yet, as the geometry is not configured until later\n",
    "        'hepmc3': False,\n",
    "        'hepevt': True,\n",
    "        'unweighted_hep_events': 100,\n",
    "        'hep_unweight': False,\n",
    "        \n",
    "        'experiment': './experiment_configs/microboone_tpc_numi_fhc.txt',\n",
    "        'nopelastic': True,\n",
    "        'pandas': False,\n",
    "        'loglevel': 'WARNING'\n",
    "        }\n",
    "gen_object = GenLauncher(mzprime=0.030, m4=0.150, **kwargs_numi)\n",
    "gen_object.run(overwrite_path='./output_files/NuMI')\n",
    "numi_df = gen_object.df"
   ]
  },
  {
   "cell_type": "code",
   "execution_count": 96,
   "metadata": {},
   "outputs": [
    {
     "name": "stdout",
     "output_type": "stream",
     "text": [
      "Intended: 1863, Random: 12, NaN: 1\n"
     ]
    },
    {
     "name": "stderr",
     "output_type": "stream",
     "text": [
      "/var/folders/wr/yb1fjkjn1mbg644j5v7f2tlm0000gp/T/ipykernel_52357/2280903535.py:130: RuntimeWarning:\n",
      "\n",
      "invalid value encountered in arcsin\n",
      "\n"
     ]
    }
   ],
   "source": [
    "df  = numi_df.copy()\n",
    "microboone_NuMI_geometry(df)"
   ]
  },
  {
   "cell_type": "code",
   "execution_count": 97,
   "metadata": {},
   "outputs": [],
   "source": [
    "def plot_decays_scatter(df, skip = 10, beam = 'NuMI'):\n",
    "    fig = px.scatter_3d(x=df[\"pos_prod\", \"1\"][::skip],y=df[\"pos_prod\", \"3\"][::skip], z=df[\"pos_prod\", \"2\"][::skip], color=df[\"w_event_rate\"][::skip])\n",
    "    fig.add_scatter3d(x=df[\"pos_scatt\", \"1\"][::skip],y=df[\"pos_scatt\", \"3\"][::skip], z=df[\"pos_scatt\", \"2\"][::skip], mode='markers',name='Scatter Point')\n",
    "    if beam == 'NuMI':\n",
    "        target_coords = convert_to_ub_tpc_coords([[0,0,0]])[0]\n",
    "        absorber_coords = convert_to_ub_tpc_coords([[0,0,NuMI_full_length]])[0]\n",
    "        fig.add_scatter3d(x=[target_coords[0]],y=[target_coords[2]], z=[target_coords[1]], mode='markers',name='Beam Origin')\n",
    "        fig.add_scatter3d(x=[absorber_coords[0]],y=[absorber_coords[2]], z=[absorber_coords[1]], mode='markers',name='Absorber')\n",
    "    elif beam == 'BNB':\n",
    "        l_baseline_muB = 470e2\n",
    "        target_coords = [0,0,-l_baseline_muB]\n",
    "        fig.add_scatter3d(x=[target_coords[0]],y=[target_coords[2]], z=[target_coords[1]], mode='markers',name='Beam Origin')\n",
    "    fig.show()\n",
    "    return None"
   ]
  },
  {
   "cell_type": "markdown",
   "metadata": {},
   "source": [
    "## Plotting the decay and scatter point"
   ]
  },
  {
   "cell_type": "code",
   "execution_count": 98,
   "metadata": {},
   "outputs": [
    {
     "data": {
      "application/vnd.plotly.v1+json": {
       "config": {
        "plotlyServerURL": "https://plot.ly"
       },
       "data": [
        {
         "hovertemplate": "x=%{x}<br>y=%{y}<br>z=%{z}<br>color=%{marker.color}<extra></extra>",
         "legendgroup": "",
         "marker": {
          "color": [
           202.8720723978787,
           0.003784331992651631,
           0.07474934114912431,
           522.0102196362617,
           573.3258898895879,
           0.005603837353963918,
           222.01871188950275,
           0.03765406286009934,
           0.0003580858583182009,
           0.055003855284775284,
           519.3624799653755,
           511.1545505624249,
           0.017630835810754517,
           0.015935732947224262,
           0.01950728668557134,
           748.98561891703,
           0.00973615021814792,
           0.011373741618260274,
           0.018992805372184493,
           784.3167552572559,
           7898.046893587991,
           0.023009214613496514,
           1778.3424981425426,
           665.3636431806844,
           307.60719345050484,
           605.6731987696438,
           6499.690273331844,
           259.92609426315994,
           0.02394069449380811,
           0.014999369615316688,
           0.0010438881762037068,
           269.3265038753085,
           309.7988011737357,
           353.4130799537947,
           0.2664245243026847,
           333.74041095914265,
           0.035719859361817596,
           273.1499812832779,
           0.02709881518372268,
           0.0015821505989287402,
           150.5474519079467,
           0.11716894522826757,
           0.022703561163925044,
           0.028030290495683927,
           871.9097270242962,
           361.7819299146757,
           0.1160278032314452,
           0.011123638092535918,
           0.014405748402245726,
           154.56878274496577,
           0.049059481096532465,
           518.8771741274891,
           523.0415867118769,
           0.007345019474697786,
           237.03516608911016,
           0.018283246764174366,
           440.44705312339556,
           320.1938530122818,
           0.013405310837526477,
           355.7179695408098,
           0.0072884743732577525,
           0.012002646307212027,
           987.9866532868084,
           345.52084250582755,
           0.024760198322525795,
           0.03166095040985157,
           515.5541522566235,
           0.036294163943974694,
           937.9308617866755,
           158.57067849180888,
           447.9968964917365,
           0.07482531214115931,
           451.35415632031595,
           0.026879887721624418,
           0.02778795310751893,
           0.031857972726132756,
           0.041731577441976246,
           0.016765323820646435,
           0.015034405522744472,
           0.0009541518739554336,
           0.0064565459777896125,
           299.7838853884267,
           832.6695227421093,
           0.022688178740183397,
           613.8094109031819,
           0.01925882598117147,
           0.12104019372100634,
           1589.774947288134,
           0.015172272066125373,
           302.1076182422763,
           461.2718673786792,
           0.02846250828268821,
           226.5567194085657,
           0.046914639723130085,
           1139.6379281468276,
           509.91212672960216,
           337.1512846925702,
           789.0356372469078,
           534.793952953063,
           152.7584949122213,
           0.07087902525173828,
           0.0000020256808367788293,
           424.0946484848445,
           561.3025648450538,
           155.6880765744519,
           0.021666179259442628,
           0.000012836391888633317,
           381.210521526143,
           0.04444989797388881,
           612.2242805571243,
           0.024016963830328267,
           448.1348303036373,
           199.1778479405983,
           0.029564197923939613,
           460.8096610356636,
           0.08467843446890072,
           0.05330071852913975,
           0.02906753228533118,
           244.78674316247398,
           576.1093075334672,
           812.6057551350643,
           0.04586196747048247,
           618.034092521618,
           0.09966920352637162,
           0.01824376028017683,
           0.011272702125594395,
           430.5422608455258,
           396.2397914585305,
           0.021392765085759848,
           250.00484629704675,
           0.03070712310645893,
           0.027766272119174974,
           190.58036322343662,
           376.5732380930271,
           247.3317103009813,
           0.015203726513944322,
           0.005844349075171723,
           1123.4089189198403,
           0.017179482349163538,
           440.50854902900966,
           0.06674296886145079,
           0.008151571067063452,
           0.014815463287486202,
           0.027331355012717592,
           0.05836059040089517,
           0.01413716561825706,
           450.49193304376473,
           0.08264600546981465,
           0.02484990803404078,
           0.020968406128307693,
           400.4803164420603,
           366.7388403461518,
           0.017974018730769255,
           567.2084603558744,
           154.14664195293273,
           0.0651702988637459,
           289.0817888392416,
           0.01234613137364214,
           0.04437802918931786,
           0.017611252602616794,
           441.7070660697979,
           0.05146745982453772,
           1002.741793513929,
           0.028463831589482624,
           299.4055159439079,
           398.86069717140117,
           485.6502920807632,
           0.01922871591659225,
           0.00014562091445752503,
           367.0515614421335,
           482.0314623226378,
           979.4515457810298,
           2304.556535166794,
           339.61241566808627,
           439.2943016288287,
           1207.571384479232,
           0.0000494732990786812,
           911.4539827927368,
           0.042402336445273255,
           0.00044847176321112313,
           580.4754133545854,
           0.034575807009630664,
           208.67513406314504,
           0.0533028435393536,
           770.5227919615166,
           0.02885378130159924,
           0.01837035303017616,
           704.5341813877681
          ],
          "coloraxis": "coloraxis",
          "symbol": "circle"
         },
         "mode": "markers",
         "name": "",
         "scene": "scene",
         "showlegend": false,
         "type": "scatter3d",
         "x": [
          -31221.04836742617,
          -29144.925276356033,
          -22756.09508018001,
          -31252.104088470027,
          -30229.92548895216,
          -29766.057327256545,
          -31245.585163471158,
          -31069.952678989455,
          -31474.763908462777,
          -27515.110065366494,
          -30716.224497419567,
          -31302.51779858474,
          -31493.447893552988,
          -31021.349747746743,
          -31275.61898001083,
          -31528.684422956605,
          -31239.712860649302,
          -31088.859905166773,
          -29488.004352253472,
          -26180.22781781162,
          -12244.089616099618,
          -30916.544787317514,
          -17107.529579404196,
          -25623.912165402355,
          -30771.9106445264,
          -29754.74800210906,
          -11971.474117980066,
          -31285.138956091447,
          -31174.53869364438,
          -31343.469407889075,
          -30031.8789742667,
          -31212.950970447906,
          -31509.700264433068,
          -31320.523450137454,
          -13860.088128686493,
          -31183.585034520707,
          -30942.45464441474,
          -31130.6171772488,
          -31316.912400776455,
          -19342.44874010249,
          -31379.196186837475,
          -11299.84936793551,
          -31264.41943948048,
          -29664.793988872665,
          -20193.828244915505,
          -30993.474803822293,
          -25887.60426585187,
          -29881.7418299555,
          -31456.873195226268,
          -30232.305326003723,
          -19342.47951651741,
          -30526.93121649189,
          -30798.800339477402,
          -31161.152247165253,
          -31209.73728566328,
          -30653.659382755304,
          -31294.232825042953,
          -30951.79779776136,
          -31496.896044298435,
          -29277.62269549674,
          -30599.65660662868,
          -31167.241330993238,
          -31400.30706601007,
          -31330.38303292095,
          -31311.63210853063,
          -30350.109106278473,
          -31525.399304747167,
          -31122.348659308722,
          -31113.926433898658,
          -31508.146950614002,
          -31378.32291720978,
          -15913.36683515924,
          -29842.80863961207,
          -31162.450014663547,
          -31362.2312263589,
          -28487.701681508344,
          -22026.759025258165,
          -31495.103537435913,
          -30270.61018292073,
          -30906.620709252868,
          -30990.784553480495,
          -31243.924289121314,
          -18981.021289176275,
          -31350.93139693975,
          -28391.093680623784,
          -30830.968885999508,
          -21683.5887076456,
          -18650.286564810685,
          -31618.935118898324,
          -31577.729587569018,
          -31541.431297031046,
          -31339.37750595277,
          -31394.015551830216,
          -31182.622258089148,
          -22941.966975694686,
          -30921.188030895002,
          -31337.291262202874,
          -30536.1217350958,
          -28043.657248664826,
          -30968.83049694976,
          -30450.499185988476,
          -31097.430171237524,
          -30290.685299609624,
          -31255.696458143408,
          -31335.963407356074,
          -23978.152061537578,
          -25171.614382806052,
          -31209.474356989005,
          -31188.73123797937,
          -31083.79897023002,
          -29465.520750633143,
          -29756.167267882218,
          -30513.2693855776,
          -31112.43421319141,
          -31224.16555209074,
          -24528.12251231231,
          -30683.587512159545,
          -31142.587484061583,
          -31151.00416821859,
          -31273.99450884847,
          -31391.18161022137,
          -31067.359602658806,
          -31279.926666443826,
          -19551.75475339438,
          -31501.67488563642,
          -31237.33877164704,
          -31047.087901712886,
          -31156.624758434406,
          -31377.785453557633,
          -31049.468984423467,
          -30811.90524505983,
          -20316.59012211667,
          -31427.8466453861,
          -31465.91705236328,
          -30970.679296029357,
          -30983.58682601023,
          -31517.204801393527,
          -30836.952882020047,
          -30910.02715923369,
          -31293.64460636563,
          -30966.13700525601,
          -31197.97643918543,
          -30294.173656680014,
          -29483.418256698646,
          -26773.168648990522,
          -31065.73538822948,
          -31371.48716141199,
          -23504.915924266523,
          -31180.405134215707,
          -31019.808299185133,
          -30966.966732233373,
          -31124.586993512003,
          -30989.192472672374,
          -29921.551081310125,
          -30540.9577856751,
          -20409.23082308781,
          -31074.71623989359,
          -31333.506695792406,
          -31242.288166197708,
          -29134.69983054113,
          -31312.01551226725,
          -18952.24800288618,
          -29495.295232458695,
          -24347.846059754516,
          -30614.386360966964,
          -31063.83295640236,
          -29171.975546485774,
          -30276.30032818221,
          -31069.89560380776,
          -31218.23680632809,
          -31233.085428834518,
          -31391.27060472883,
          -20258.976017569432,
          -31423.092962746672,
          -31395.967375613498,
          -30959.13047345157,
          -28010.307697600812,
          -22825.434113107513,
          -31015.594170809523,
          -31125.884135220353,
          -30456.083118819566,
          -30375.697532890805,
          -30029.3240336417,
          -26737.92335371019,
          -26010.246431695476,
          -31085.86888423294,
          -23565.178931081933,
          -31179.932129729623
         ],
         "y": [
          -59706.413345834946,
          -54796.74678987212,
          -39688.285215119016,
          -59779.85467291047,
          -57362.581773312326,
          -56265.61502329221,
          -59764.43855997119,
          -59349.09857415368,
          -60306.40604950136,
          -50942.520001387114,
          -58512.59353722928,
          -59899.074244995005,
          -60350.590393447084,
          -59234.161176139816,
          -59835.46326233445,
          -60433.918598169264,
          -59750.55159493768,
          -59393.810844070664,
          -55608.06856179849,
          -47785.75788301461,
          -14829.238135934846,
          -58986.31584782975,
          -26330.419659069717,
          -46470.169050666256,
          -58644.28149699275,
          -56238.87045516619,
          -14184.550352483235,
          -59857.97633411599,
          -59596.426134153044,
          -59995.91761014958,
          -56894.23654182847,
          -59687.26442383435,
          -60389.024396762325,
          -59941.65444923575,
          -18650.790858824632,
          -59617.819141843866,
          -59047.58811025349,
          -59492.559460225064,
          -59933.114951574986,
          -31615.611036092087,
          -60080.40516896037,
          -12596.275751794232,
          -59808.97831555046,
          -56026.145009232394,
          -33628.97406798152,
          -59168.241828426835,
          -47093.754565521864,
          -56539.18855868961,
          -60264.09765419598,
          -57368.20967005455,
          -31615.683816909223,
          -58064.94816656869,
          -58707.870903887175,
          -59564.769538807406,
          -59679.66462362194,
          -58364.63802709679,
          -59879.48173735897,
          -59069.6830273181,
          -60358.744664486054,
          -55110.55288529101,
          -58236.930944111955,
          -59579.169152855,
          -60130.328691263305,
          -59964.97063123675,
          -59920.62798760038,
          -57646.79492478663,
          -60426.149870450456,
          -59473.00586719756,
          -59453.08878299363,
          -60385.35108233256,
          -60078.34003963164,
          -23506.43445654775,
          -56447.11839995566,
          -59567.8385310609,
          -60040.28601637104,
          -53242.52839246962,
          -37963.53351214464,
          -60354.50570050934,
          -57458.79393056649,
          -58962.8471458138,
          -59161.87985875986,
          -59760.51088377311,
          -30760.898579084213,
          -60013.56390397515,
          -53014.067434147124,
          -58783.94386781347,
          -37151.99596958348,
          -29978.769030938627,
          -60647.3456466055,
          -60549.90180044902,
          -60464.0627170828,
          -59986.24098058298,
          -60115.450364979064,
          -59615.54234464083,
          -40127.83961005205,
          -58997.29630356555,
          -59981.307380446015,
          -58086.68212926852,
          -52192.44128026012,
          -59109.96237006167,
          -57884.19983542157,
          -59414.07801844209,
          -57506.26805646898,
          -59788.34999639004,
          -59978.167236896465,
          -42578.23539035621,
          -45400.56421552877,
          -59679.042843475945,
          -59629.98900938199,
          -59381.84262161422,
          -55554.89879194828,
          -56242.226769505396,
          -58032.640335389704,
          -59449.559943045744,
          -59713.784940208236,
          -43878.818935017196,
          -58435.41279794277,
          -59520.8671339252,
          -59540.77111403866,
          -59831.6216732826,
          -60108.74859069682,
          -59342.966403959916,
          -59845.6501843453,
          -32110.583004681583,
          -60370.045785115304,
          -59744.93729132273,
          -59295.02739080855,
          -59554.06282295807,
          -60077.06903246962,
          -59300.65823331563,
          -58738.861704448966,
          -33919.28435133333,
          -60195.454960707226,
          -60285.48478827944,
          -59114.3344552472,
          -59144.858497169254,
          -60406.77130892337,
          -58798.094967649224,
          -58970.902801866825,
          -59878.09070347467,
          -59103.592735166494,
          -59651.85228683398,
          -57514.51740840645,
          -55597.223251101444,
          -49187.9588319975,
          -59339.1254220366,
          -60062.17467748646,
          -41459.115023058956,
          -59610.29923599343,
          -59230.515920960475,
          -59105.55489377302,
          -59478.29913455063,
          -59158.11486720822,
          -56633.33044788414,
          -58098.118539707895,
          -34138.363341993994,
          -59360.36355924003,
          -59972.3575454318,
          -59756.641740351886,
          -54772.565406045134,
          -59921.53467011416,
          -30692.854809419856,
          -55625.310213250224,
          -43452.496780151894,
          -58271.76422666793,
          -59334.626504820764,
          -54860.71592886826,
          -57472.250124955455,
          -59348.96360137102,
          -59699.76449753078,
          -59734.8788824319,
          -60108.95904708007,
          -33783.03711076074,
          -60184.21333598235,
          -60120.06608549829,
          -59087.02351775279,
          -52113.57544796934,
          -39852.259852485775,
          -59220.550247327126,
          -59481.36664692079,
          -57897.40485606291,
          -57707.307060554806,
          -56888.19455588217,
          -49104.60989751612,
          -47383.7817525336,
          -59386.73760476699,
          -41601.62645236486,
          -59609.18066344052
         ],
         "z": [
          -3341.4286240871575,
          -3653.416851218042,
          -4613.494707352193,
          -3336.7617431144354,
          -3490.3690559208876,
          -3560.0765824217765,
          -3337.7413708937056,
          -3364.134443489317,
          -3303.3016641857753,
          -3898.3364132684205,
          -3417.290746566384,
          -3329.185851246833,
          -3300.4939388591283,
          -3371.4382215827254,
          -3333.228056044268,
          -3295.198789267004,
          -3338.6238278898477,
          -3361.2931707341527,
          -3601.8608364926476,
          -4098.935090502181,
          -6193.180402499553,
          -3387.1877279291834,
          -5462.329703696921,
          -4182.535111554336,
          -3408.9225422020386,
          -3561.776084882872,
          -6234.147542797039,
          -3331.797447005481,
          -3348.4178390956654,
          -3323.031871244409,
          -3520.1303842698344,
          -3342.6454558532937,
          -3298.0516229871264,
          -3326.480062110134,
          -5950.337137012702,
          -3347.0584053201983,
          -3383.294138760147,
          -3355.01812021199,
          -3327.02271051719,
          -5126.478486721293,
          -3317.6630496783127,
          -6335.075573492762,
          -3334.911060683913,
          -3575.2938735119,
          -4998.537911586478,
          -3375.627113066939,
          -4142.908929811298,
          -3542.692158993895,
          -3305.9901810318015,
          -3490.0114272495575,
          -5126.47386181289,
          -3445.7366876468686,
          -3404.881708451893,
          -3350.4294797939306,
          -3343.128390522643,
          -3426.6926839025186,
          -3330.43087097531,
          -3381.8901016580307,
          -3299.9757699496936,
          -3633.475821362624,
          -3434.807920641785,
          -3349.5144461542995,
          -3314.4906242115558,
          -3324.9984188655194,
          -3327.8162034577545,
          -3472.3085305786817,
          -3295.692458553997,
          -3356.2606670841974,
          -3357.5263122598053,
          -3298.285046345632,
          -3317.794279779323,
          -5641.78183689905,
          -3548.542822224819,
          -3350.234458514719,
          -3320.2124495505177,
          -3752.180756434966,
          -4723.095271854566,
          -3300.2451379079635,
          -3484.2551864700777,
          -3388.6790631658155,
          -3376.0313889204685,
          -3337.990957850338,
          -5180.791793160548,
          -3321.9105250463904,
          -3766.698469306748,
          -3400.0475982577636,
          -4774.664997877266,
          -5230.4927674184155,
          -3281.6364168116834,
          -3287.8285548032654,
          -3293.283259951305,
          -3323.6467795011463,
          -3315.4360779581975,
          -3347.203086005702,
          -4585.5629130358975,
          -3386.489967118128,
          -3323.960288604577,
          -3444.355587644667,
          -3818.909283257901,
          -3379.3305223893926,
          -3457.22246794349,
          -3360.0052788317153,
          -3481.238409626665,
          -3336.2219017869065,
          -3324.1598312431233,
          -4429.850783392874,
          -4250.503905858683,
          -3343.1679019809476,
          -3346.285062496534,
          -3362.0536998787566,
          -3605.239547051388,
          -3561.5628055188977,
          -3447.789711585884,
          -3357.750554885373,
          -3340.96019091895,
          -4347.204283939347,
          -3422.195251127779,
          -3353.2192891037594,
          -3351.9544766368303,
          -3333.472172532423,
          -3315.8619469358796,
          -3364.5241165731018,
          -3332.580720893936,
          -5095.02514356662,
          -3299.2576322616196,
          -3338.9805927763095,
          -3367.5704350049177,
          -3351.1098456106624,
          -3317.8750468266635,
          -3367.21261914288,
          -3402.912376153165,
          -4980.089939695028,
          -3310.3521294458005,
          -3304.6311204988606,
          -3379.052695149936,
          -3377.1130233584645,
          -3296.9238829259507,
          -3399.1483566291545,
          -3388.1671608152765,
          -3330.519265205446,
          -3379.73528533526,
          -3344.895745097121,
          -3480.7141987344153,
          -3602.550009416814,
          -4009.8312413572517,
          -3364.768194480845,
          -3318.821519128293,
          -4500.966077142322,
          -3347.5362630459167,
          -3371.6698618963555,
          -3379.6105985814816,
          -3355.924302673622,
          -3376.2706379664005,
          -3536.709846188379,
          -3443.6288528701057,
          -4966.1684105812365,
          -3363.4186020598254,
          -3324.5290121884236,
          -3338.236825300346,
          -3654.953474323453,
          -3327.758587677371,
          -5185.115682537333,
          -3600.7652035799197,
          -4374.295226219634,
          -3432.5944151122517,
          -3365.0540813512016,
          -3649.3518871234332,
          -3483.400103098633,
          -3364.1430204300714,
          -3341.8511298462013,
          -3339.6197614697103,
          -3315.8485733364405,
          -4988.747866776877,
          -3311.0664864246314,
          -3315.142768739473,
          -3380.7881879523575,
          -3823.920868243794,
          -4603.074823267732,
          -3372.303137662356,
          -3355.729375434642,
          -3456.3833455851463,
          -3468.4632441945605,
          -3520.514326531951,
          -4015.1277082365577,
          -4124.47894747662,
          -3361.742644718847,
          -4491.910087765399,
          -3347.6073435284143
         ]
        },
        {
         "mode": "markers",
         "name": "Scatter Point",
         "type": "scatter3d",
         "x": [
          90.16176122107157,
          111.30435180201397,
          39.32362402071931,
          143.9264881845154,
          -142.21804130288064,
          -14.377880945569473,
          54.26559517733352,
          6.9038551939272566,
          -101.66221042210353,
          25.486544722206133,
          60.115999344303646,
          -34.54290114707129,
          -92.9591043656949,
          -117.7431428434935,
          75.69231700743109,
          -97.17168319243102,
          -94.80985101848378,
          175.15092926189038,
          64.20651545946237,
          -30.182969318005348,
          86.38345995537355,
          155.51052236594688,
          -18.76416136801126,
          41.22698085404406,
          -70.60687745909618,
          -128.68221475098326,
          -2.1855712524092894,
          106.38502099660252,
          72.32379795492585,
          -81.45665651474788,
          51.61094736043492,
          16.303770708481068,
          -133.26599893281474,
          19.759308965880024,
          15.011451027773944,
          48.50378942052026,
          -67.26317878595273,
          -7.80461490377516,
          -131.7190853785886,
          -65.47672978654919,
          -135.3511474986997,
          149.32617611737766,
          -128.45171198694197,
          60.11533352597172,
          -170.05875725142246,
          102.87327666945032,
          -111.3216094327508,
          33.57035751165344,
          -171.93116609928208,
          152.3449752233622,
          178.42719078119376,
          147.24820063288394,
          82.57488439548217,
          -37.56847082438304,
          86.84541418129947,
          82.48933919016162,
          -2.1843549720248063,
          111.61226470177922,
          64.50071527964957,
          37.895623334924835,
          105.46872730616269,
          -147.77376234313027,
          28.4451428117317,
          -111.23178873118059,
          155.27953345336988,
          -74.32788712499337,
          88.20592540962474,
          32.89028246806228,
          89.86361238251664,
          -65.28116009949153,
          -58.57803671088266,
          -85.33078109948833,
          -2.5570074371128158,
          190.4248420349466,
          1.2782059368529701,
          -180.34422022157344,
          -104.7634974947766,
          -90.74451344433095,
          -34.644867450870635,
          22.379459958394108,
          5.779768915630484,
          16.10047314295707,
          145.83465050836026,
          -51.152176450290824,
          -112.4134400481057,
          -137.49384103253772,
          116.28832215478991,
          75.79686246540916,
          -126.99735683663,
          83.22881999839421,
          127.81071449374735,
          -164.66156459730271,
          32.8184484637394,
          135.7330916745587,
          65.90231303543999,
          74.72621634567156,
          114.55344570508447,
          -122.43372529392036,
          72.94219152409863,
          -6.534984705657308,
          88.05940936598688,
          -9.685371740132098,
          47.58016475010828,
          -0.8696856835105962,
          -151.69145375255457,
          30.07889195426867,
          186.78554098626006,
          -17.225710666682744,
          -67.12859645348001,
          -148.3561660661902,
          -138.31971682896778,
          -104.39543728533889,
          130.54282861141104,
          17.818982471864643,
          135.9087107433155,
          -52.74537835176929,
          128.39624678789374,
          -46.47991517583344,
          31.49150969251758,
          -61.552271883978136,
          -12.36676706914946,
          136.077515324513,
          -164.4609484389023,
          -19.052369973841763,
          0.2938185000862461,
          109.60311349515138,
          -130.28304729878158,
          -131.72307587548283,
          -103.28877822010303,
          -5.787331557751855,
          -160.891890126539,
          0.8285426084987932,
          -7.934063591022152,
          -156.98156348730112,
          89.54548725043429,
          -124.72344516246663,
          -176.46129507656556,
          -54.94915541509863,
          -22.360199596839777,
          -146.90068295872123,
          74.83303864811444,
          -102.29859210895067,
          75.76463345661864,
          -36.51328152950845,
          -127.79946949177123,
          130.98006658484553,
          6.387890804611743,
          -178.38590560644275,
          -56.012050504527394,
          157.27625591048013,
          88.16467358806477,
          -45.20336738012526,
          117.44822543702861,
          -73.79590476042614,
          -76.29701386546861,
          116.04635689218907,
          0.7093553758730309,
          -161.1616391044325,
          -23.833744087616367,
          110.52580040452858,
          171.91693091589707,
          -98.86407631564929,
          -21.601648804135834,
          -112.35412328845271,
          -121.84929136244654,
          -177.6511670884423,
          -36.39549179586058,
          38.84247826143695,
          -124.90121910953458,
          121.01645734169176,
          178.30637005587437,
          18.765952519934615,
          -49.041767391053924,
          124.83079491020857,
          6.166447414441961,
          14.500301117569109,
          20.468679113871076,
          131.7708647377276,
          -65.60553035314095,
          65.80599746024438,
          73.25235763142706,
          10.537728157739735,
          88.44650389372191,
          -12.275436271748362,
          -62.649636138146064,
          -61.24948197827928,
          -48.18153972284139,
          -80.48034848173447
         ],
         "y": [
          91.60523855046426,
          -287.7311850538945,
          234.7673420422143,
          388.22465674195223,
          172.78782603058357,
          -337.05704334604343,
          -593.4511686132545,
          -95.44321654175451,
          -136.42611246192348,
          -53.21857390060052,
          -404.96999391430694,
          -582.764796618232,
          -203.4018905304158,
          418.37725833176523,
          -80.92223430942022,
          -254.461173048511,
          455.7831212905935,
          -95.22009197376701,
          77.41090320146475,
          -430.8908988539075,
          388.6415878090245,
          517.3343283718714,
          -274.6072386819327,
          39.64047653999569,
          -565.1005933295124,
          -383.54239129622823,
          355.0995138735909,
          -546.4132178375884,
          514.4067095250725,
          34.94846816895438,
          -382.89771711061655,
          493.42894252639485,
          -241.46692961579242,
          -235.4919570594285,
          426.729095403447,
          445.9216833600294,
          401.0593400128921,
          -329.5797455171586,
          -404.6030480823058,
          -143.38257536404592,
          -163.66650726830778,
          433.75486685914007,
          358.271433938467,
          223.05797233828957,
          -451.27181322811884,
          387.7468018853699,
          -206.49402358883174,
          561.4481185461989,
          -362.9800510286467,
          520.2831447065487,
          205.5061725964714,
          -527.16968388977,
          214.97788249545363,
          457.54669756182057,
          297.05388673952916,
          -18.910927344128254,
          130.80217094056684,
          79.00644897787186,
          -300.39451489159126,
          491.1389819963704,
          -22.027956236892464,
          202.90358799546993,
          -505.2461417508713,
          -309.29655108020773,
          -71.50546349052786,
          -483.2080859433415,
          -485.294719495109,
          217.5222527391213,
          530.3509146553843,
          -200.52150395158344,
          -199.91148979677916,
          -165.8103421178256,
          44.887580188731704,
          -514.1111476133913,
          -5.16075814335295,
          -396.23098951061684,
          401.7646370944017,
          -429.00872375724595,
          513.2953981139185,
          380.4041350893749,
          160.11929769733865,
          279.66311364241733,
          205.71732957191648,
          -233.77658182530627,
          -21.54836043516059,
          -544.1973600420431,
          -165.93837715600512,
          -115.04376129854597,
          -548.2791152696013,
          -443.5789813376633,
          -430.49681356898543,
          68.12317207986246,
          -526.3920919156554,
          -80.65668781844795,
          -160.13384754546644,
          586.2752732285339,
          4.658209891528259,
          -554.0088459274116,
          -340.67145112916836,
          234.42560168995942,
          -408.7379035281739,
          441.35023732591367,
          513.1017486249452,
          -165.14105006697332,
          144.13101814063066,
          76.07489127455335,
          -23.2075585929648,
          281.9292000550097,
          331.600628478159,
          -217.50619821500936,
          94.72494705673284,
          94.28832613379222,
          272.0144352478212,
          161.8308590755836,
          -67.66804189652191,
          560.7290714450539,
          412.92428666780825,
          289.70224930273594,
          -188.26071293054042,
          -295.5761955635932,
          -422.94312531873163,
          -445.1909460737042,
          473.4408158918968,
          36.172322017120564,
          -232.11381245238374,
          428.25155528164305,
          -340.47669324064225,
          441.79941106058936,
          -353.37084380522975,
          167.31271807573376,
          -322.027636504553,
          248.80693183291578,
          -36.97254731660996,
          -439.0443137447681,
          71.19971427097994,
          -479.85517620994057,
          -499.04615527148036,
          -359.36379922949516,
          -440.6774411899823,
          334.8355814798563,
          358.0845032863035,
          -332.8631097159427,
          -171.9810089154862,
          -367.715590469513,
          -110.59075910823174,
          399.09163614177146,
          -19.73593209286389,
          511.6078477447561,
          362.3711114092796,
          -148.66997668129045,
          -10.08019280615531,
          274.51673448406495,
          -272.5439333170457,
          439.98460429840065,
          512.7371719473642,
          -196.0664008444645,
          609.1278756372817,
          256.32501998610974,
          -407.0049956349624,
          63.816625018892864,
          -260.30335891994923,
          262.77460087848,
          155.43615608776906,
          291.13670776106756,
          14.051262160615124,
          -91.47288033382836,
          -375.22506773654436,
          -260.15252842414395,
          30.34368585428558,
          14.518347666176169,
          487.88575048907364,
          -221.0254673194935,
          564.3683691656352,
          -362.8642514048565,
          -526.3965134328837,
          41.06203419211204,
          -401.78109257914747,
          41.811848318253055,
          273.36585892744483,
          511.685590896607,
          -387.86999010038915,
          280.51487787197675,
          349.10547477836394,
          -149.558237395628,
          342.33171912485386,
          -189.4232646923648,
          -458.4750683743584,
          -276.57818655462665
         ],
         "z": [
          -127.5798644191842,
          -93.41040176666708,
          -144.65491199873844,
          115.99357906197542,
          -125.25550090621924,
          -128.5723504445456,
          45.30615742648979,
          85.4795628839451,
          -78.73080237902532,
          -105.20055084731399,
          116.83088787428483,
          -114.48205727340608,
          -149.6553366166064,
          -101.05263158223963,
          -164.5319961850755,
          -134.3372426926279,
          -39.830811766109605,
          -56.21333826850466,
          -157.91339831003165,
          -1.7277300044790422,
          6.17484795342952,
          64.94072115779818,
          88.7029457501664,
          28.555599150511796,
          -71.28696202737211,
          -1.3346699750992457,
          -66.37015941383476,
          12.1586319971926,
          107.66250242533334,
          1.0179003096723704,
          32.52541502353549,
          -179.71137305203672,
          78.7861563769373,
          101.5213070405079,
          -20.713243862184925,
          -39.978035369716025,
          116.29472510673293,
          -9.832494663474648,
          75.61468105740204,
          125.37464063357538,
          -81.62596737088381,
          -96.52694273909077,
          -12.354606238828751,
          78.72605141921576,
          -6.342445933444964,
          -135.1375057989237,
          -109.13945253886305,
          -99.86013983448463,
          -77.7718074456248,
          77.76609672391913,
          -69.34309412896133,
          -89.15238873400182,
          -139.9699055743902,
          26.37906559706522,
          -69.62574305488764,
          -111.54824208541929,
          -153.5137815922997,
          -57.541291556007224,
          -8.547957679649926,
          -124.14649905846264,
          68.5466158614575,
          73.36211312751567,
          -44.160329551639876,
          106.69548408546325,
          49.74414447408347,
          -52.67627659189537,
          118.90094535771959,
          -31.058714840491717,
          -72.9092668734753,
          43.112300155092015,
          68.376585807877,
          32.31182509325845,
          77.11539917678391,
          14.388766078779497,
          61.482862433593766,
          37.28756828809529,
          -77.21025537179406,
          132.7540155047181,
          7.291483831318942,
          -73.58296166804416,
          -178.99995288594388,
          87.00364972539279,
          -97.19242537947407,
          10.0297093660472,
          128.9348982027305,
          93.50710526685697,
          32.563621643457,
          -44.87644076850722,
          40.187517676842134,
          -159.5500791352609,
          -68.32988337274477,
          -86.13369422299093,
          -58.84413911786689,
          10.370379109621382,
          35.696042384925164,
          -34.70603922736791,
          -9.58576575836858,
          122.02797813554002,
          -160.30005949429156,
          -177.9576540694689,
          -128.2424157664245,
          27.403903757330625,
          -76.75317294935363,
          -58.72978990099216,
          70.71086378010187,
          -60.498705309835316,
          -2.429351217750707,
          -143.32298501920903,
          -157.31240286703473,
          -34.242977333618455,
          -118.22893652036166,
          38.467833834165134,
          -133.4081375986373,
          -172.85700822199885,
          36.61387760931052,
          42.592814893061785,
          60.16302683528136,
          -58.13873159025263,
          -46.69008855823827,
          -57.06162810366524,
          -8.281467020139957,
          31.236721634724404,
          15.177926472427515,
          118.09959665684403,
          5.464502025470807,
          -96.16931434280414,
          -70.12880665780443,
          -68.86659385456332,
          56.89039910057579,
          4.6999913922599035,
          -0.9604366298295304,
          -134.18801177149558,
          -158.0125676309603,
          9.603453815502178,
          -58.924839352294725,
          87.42309258491088,
          -63.7677408705172,
          -28.04648366659538,
          -3.6223367391997385,
          -107.61601947354632,
          -19.72041395741354,
          85.17795760735504,
          96.04392476549737,
          -70.30148626226858,
          -84.32961978554556,
          -108.27745117054768,
          -188.0924787471691,
          -69.47029973466024,
          102.88641323526178,
          106.64767219136257,
          60.083988694382185,
          42.83640149032939,
          106.26160898705166,
          -66.21918740752574,
          -130.67542419108798,
          -28.235035414986783,
          -26.784568781569902,
          -93.26115326428463,
          -18.44814396706198,
          14.619437470474367,
          -78.33182847085291,
          105.38079025848657,
          -7.714168266328812,
          -34.67940765340427,
          64.84551554277385,
          -30.65620741434475,
          -121.84102833108756,
          -54.967307703839026,
          60.792616952417575,
          47.439080184554825,
          31.763378831663488,
          -137.17586373661933,
          -133.74373173079135,
          -125.59882661163316,
          89.27883035450816,
          118.9563260262803,
          48.858122404311075,
          -84.38982806528892,
          49.56418214313575,
          -45.43980700544466,
          -56.90598089411708,
          -91.22048645747091,
          102.03936530620308,
          -188.45031419029348,
          4.967771771946104,
          96.91441632829822,
          93.39077292548137,
          -100.77484886670258
         ]
        },
        {
         "mode": "markers",
         "name": "Beam Origin",
         "type": "scatter3d",
         "x": [
          -31387.584220952263
         ],
         "y": [
          -60100.24139675476
         ],
         "z": [
          -3316.402542580327
         ]
        },
        {
         "mode": "markers",
         "name": "Absorber",
         "type": "scatter3d",
         "x": [
          -3490.568950801211
         ],
         "y": [
          5871.301173221715
         ],
         "z": [
          -7508.610785826354
         ]
        }
       ],
       "layout": {
        "coloraxis": {
         "colorbar": {
          "title": {
           "text": "color"
          }
         },
         "colorscale": [
          [
           0,
           "#0d0887"
          ],
          [
           0.1111111111111111,
           "#46039f"
          ],
          [
           0.2222222222222222,
           "#7201a8"
          ],
          [
           0.3333333333333333,
           "#9c179e"
          ],
          [
           0.4444444444444444,
           "#bd3786"
          ],
          [
           0.5555555555555556,
           "#d8576b"
          ],
          [
           0.6666666666666666,
           "#ed7953"
          ],
          [
           0.7777777777777778,
           "#fb9f3a"
          ],
          [
           0.8888888888888888,
           "#fdca26"
          ],
          [
           1,
           "#f0f921"
          ]
         ]
        },
        "legend": {
         "tracegroupgap": 0
        },
        "margin": {
         "t": 60
        },
        "scene": {
         "domain": {
          "x": [
           0,
           1
          ],
          "y": [
           0,
           1
          ]
         },
         "xaxis": {
          "title": {
           "text": "x"
          }
         },
         "yaxis": {
          "title": {
           "text": "y"
          }
         },
         "zaxis": {
          "title": {
           "text": "z"
          }
         }
        },
        "template": {
         "data": {
          "bar": [
           {
            "error_x": {
             "color": "#2a3f5f"
            },
            "error_y": {
             "color": "#2a3f5f"
            },
            "marker": {
             "line": {
              "color": "#E5ECF6",
              "width": 0.5
             },
             "pattern": {
              "fillmode": "overlay",
              "size": 10,
              "solidity": 0.2
             }
            },
            "type": "bar"
           }
          ],
          "barpolar": [
           {
            "marker": {
             "line": {
              "color": "#E5ECF6",
              "width": 0.5
             },
             "pattern": {
              "fillmode": "overlay",
              "size": 10,
              "solidity": 0.2
             }
            },
            "type": "barpolar"
           }
          ],
          "carpet": [
           {
            "aaxis": {
             "endlinecolor": "#2a3f5f",
             "gridcolor": "white",
             "linecolor": "white",
             "minorgridcolor": "white",
             "startlinecolor": "#2a3f5f"
            },
            "baxis": {
             "endlinecolor": "#2a3f5f",
             "gridcolor": "white",
             "linecolor": "white",
             "minorgridcolor": "white",
             "startlinecolor": "#2a3f5f"
            },
            "type": "carpet"
           }
          ],
          "choropleth": [
           {
            "colorbar": {
             "outlinewidth": 0,
             "ticks": ""
            },
            "type": "choropleth"
           }
          ],
          "contour": [
           {
            "colorbar": {
             "outlinewidth": 0,
             "ticks": ""
            },
            "colorscale": [
             [
              0,
              "#0d0887"
             ],
             [
              0.1111111111111111,
              "#46039f"
             ],
             [
              0.2222222222222222,
              "#7201a8"
             ],
             [
              0.3333333333333333,
              "#9c179e"
             ],
             [
              0.4444444444444444,
              "#bd3786"
             ],
             [
              0.5555555555555556,
              "#d8576b"
             ],
             [
              0.6666666666666666,
              "#ed7953"
             ],
             [
              0.7777777777777778,
              "#fb9f3a"
             ],
             [
              0.8888888888888888,
              "#fdca26"
             ],
             [
              1,
              "#f0f921"
             ]
            ],
            "type": "contour"
           }
          ],
          "contourcarpet": [
           {
            "colorbar": {
             "outlinewidth": 0,
             "ticks": ""
            },
            "type": "contourcarpet"
           }
          ],
          "heatmap": [
           {
            "colorbar": {
             "outlinewidth": 0,
             "ticks": ""
            },
            "colorscale": [
             [
              0,
              "#0d0887"
             ],
             [
              0.1111111111111111,
              "#46039f"
             ],
             [
              0.2222222222222222,
              "#7201a8"
             ],
             [
              0.3333333333333333,
              "#9c179e"
             ],
             [
              0.4444444444444444,
              "#bd3786"
             ],
             [
              0.5555555555555556,
              "#d8576b"
             ],
             [
              0.6666666666666666,
              "#ed7953"
             ],
             [
              0.7777777777777778,
              "#fb9f3a"
             ],
             [
              0.8888888888888888,
              "#fdca26"
             ],
             [
              1,
              "#f0f921"
             ]
            ],
            "type": "heatmap"
           }
          ],
          "heatmapgl": [
           {
            "colorbar": {
             "outlinewidth": 0,
             "ticks": ""
            },
            "colorscale": [
             [
              0,
              "#0d0887"
             ],
             [
              0.1111111111111111,
              "#46039f"
             ],
             [
              0.2222222222222222,
              "#7201a8"
             ],
             [
              0.3333333333333333,
              "#9c179e"
             ],
             [
              0.4444444444444444,
              "#bd3786"
             ],
             [
              0.5555555555555556,
              "#d8576b"
             ],
             [
              0.6666666666666666,
              "#ed7953"
             ],
             [
              0.7777777777777778,
              "#fb9f3a"
             ],
             [
              0.8888888888888888,
              "#fdca26"
             ],
             [
              1,
              "#f0f921"
             ]
            ],
            "type": "heatmapgl"
           }
          ],
          "histogram": [
           {
            "marker": {
             "pattern": {
              "fillmode": "overlay",
              "size": 10,
              "solidity": 0.2
             }
            },
            "type": "histogram"
           }
          ],
          "histogram2d": [
           {
            "colorbar": {
             "outlinewidth": 0,
             "ticks": ""
            },
            "colorscale": [
             [
              0,
              "#0d0887"
             ],
             [
              0.1111111111111111,
              "#46039f"
             ],
             [
              0.2222222222222222,
              "#7201a8"
             ],
             [
              0.3333333333333333,
              "#9c179e"
             ],
             [
              0.4444444444444444,
              "#bd3786"
             ],
             [
              0.5555555555555556,
              "#d8576b"
             ],
             [
              0.6666666666666666,
              "#ed7953"
             ],
             [
              0.7777777777777778,
              "#fb9f3a"
             ],
             [
              0.8888888888888888,
              "#fdca26"
             ],
             [
              1,
              "#f0f921"
             ]
            ],
            "type": "histogram2d"
           }
          ],
          "histogram2dcontour": [
           {
            "colorbar": {
             "outlinewidth": 0,
             "ticks": ""
            },
            "colorscale": [
             [
              0,
              "#0d0887"
             ],
             [
              0.1111111111111111,
              "#46039f"
             ],
             [
              0.2222222222222222,
              "#7201a8"
             ],
             [
              0.3333333333333333,
              "#9c179e"
             ],
             [
              0.4444444444444444,
              "#bd3786"
             ],
             [
              0.5555555555555556,
              "#d8576b"
             ],
             [
              0.6666666666666666,
              "#ed7953"
             ],
             [
              0.7777777777777778,
              "#fb9f3a"
             ],
             [
              0.8888888888888888,
              "#fdca26"
             ],
             [
              1,
              "#f0f921"
             ]
            ],
            "type": "histogram2dcontour"
           }
          ],
          "mesh3d": [
           {
            "colorbar": {
             "outlinewidth": 0,
             "ticks": ""
            },
            "type": "mesh3d"
           }
          ],
          "parcoords": [
           {
            "line": {
             "colorbar": {
              "outlinewidth": 0,
              "ticks": ""
             }
            },
            "type": "parcoords"
           }
          ],
          "pie": [
           {
            "automargin": true,
            "type": "pie"
           }
          ],
          "scatter": [
           {
            "fillpattern": {
             "fillmode": "overlay",
             "size": 10,
             "solidity": 0.2
            },
            "type": "scatter"
           }
          ],
          "scatter3d": [
           {
            "line": {
             "colorbar": {
              "outlinewidth": 0,
              "ticks": ""
             }
            },
            "marker": {
             "colorbar": {
              "outlinewidth": 0,
              "ticks": ""
             }
            },
            "type": "scatter3d"
           }
          ],
          "scattercarpet": [
           {
            "marker": {
             "colorbar": {
              "outlinewidth": 0,
              "ticks": ""
             }
            },
            "type": "scattercarpet"
           }
          ],
          "scattergeo": [
           {
            "marker": {
             "colorbar": {
              "outlinewidth": 0,
              "ticks": ""
             }
            },
            "type": "scattergeo"
           }
          ],
          "scattergl": [
           {
            "marker": {
             "colorbar": {
              "outlinewidth": 0,
              "ticks": ""
             }
            },
            "type": "scattergl"
           }
          ],
          "scattermapbox": [
           {
            "marker": {
             "colorbar": {
              "outlinewidth": 0,
              "ticks": ""
             }
            },
            "type": "scattermapbox"
           }
          ],
          "scatterpolar": [
           {
            "marker": {
             "colorbar": {
              "outlinewidth": 0,
              "ticks": ""
             }
            },
            "type": "scatterpolar"
           }
          ],
          "scatterpolargl": [
           {
            "marker": {
             "colorbar": {
              "outlinewidth": 0,
              "ticks": ""
             }
            },
            "type": "scatterpolargl"
           }
          ],
          "scatterternary": [
           {
            "marker": {
             "colorbar": {
              "outlinewidth": 0,
              "ticks": ""
             }
            },
            "type": "scatterternary"
           }
          ],
          "surface": [
           {
            "colorbar": {
             "outlinewidth": 0,
             "ticks": ""
            },
            "colorscale": [
             [
              0,
              "#0d0887"
             ],
             [
              0.1111111111111111,
              "#46039f"
             ],
             [
              0.2222222222222222,
              "#7201a8"
             ],
             [
              0.3333333333333333,
              "#9c179e"
             ],
             [
              0.4444444444444444,
              "#bd3786"
             ],
             [
              0.5555555555555556,
              "#d8576b"
             ],
             [
              0.6666666666666666,
              "#ed7953"
             ],
             [
              0.7777777777777778,
              "#fb9f3a"
             ],
             [
              0.8888888888888888,
              "#fdca26"
             ],
             [
              1,
              "#f0f921"
             ]
            ],
            "type": "surface"
           }
          ],
          "table": [
           {
            "cells": {
             "fill": {
              "color": "#EBF0F8"
             },
             "line": {
              "color": "white"
             }
            },
            "header": {
             "fill": {
              "color": "#C8D4E3"
             },
             "line": {
              "color": "white"
             }
            },
            "type": "table"
           }
          ]
         },
         "layout": {
          "annotationdefaults": {
           "arrowcolor": "#2a3f5f",
           "arrowhead": 0,
           "arrowwidth": 1
          },
          "autotypenumbers": "strict",
          "coloraxis": {
           "colorbar": {
            "outlinewidth": 0,
            "ticks": ""
           }
          },
          "colorscale": {
           "diverging": [
            [
             0,
             "#8e0152"
            ],
            [
             0.1,
             "#c51b7d"
            ],
            [
             0.2,
             "#de77ae"
            ],
            [
             0.3,
             "#f1b6da"
            ],
            [
             0.4,
             "#fde0ef"
            ],
            [
             0.5,
             "#f7f7f7"
            ],
            [
             0.6,
             "#e6f5d0"
            ],
            [
             0.7,
             "#b8e186"
            ],
            [
             0.8,
             "#7fbc41"
            ],
            [
             0.9,
             "#4d9221"
            ],
            [
             1,
             "#276419"
            ]
           ],
           "sequential": [
            [
             0,
             "#0d0887"
            ],
            [
             0.1111111111111111,
             "#46039f"
            ],
            [
             0.2222222222222222,
             "#7201a8"
            ],
            [
             0.3333333333333333,
             "#9c179e"
            ],
            [
             0.4444444444444444,
             "#bd3786"
            ],
            [
             0.5555555555555556,
             "#d8576b"
            ],
            [
             0.6666666666666666,
             "#ed7953"
            ],
            [
             0.7777777777777778,
             "#fb9f3a"
            ],
            [
             0.8888888888888888,
             "#fdca26"
            ],
            [
             1,
             "#f0f921"
            ]
           ],
           "sequentialminus": [
            [
             0,
             "#0d0887"
            ],
            [
             0.1111111111111111,
             "#46039f"
            ],
            [
             0.2222222222222222,
             "#7201a8"
            ],
            [
             0.3333333333333333,
             "#9c179e"
            ],
            [
             0.4444444444444444,
             "#bd3786"
            ],
            [
             0.5555555555555556,
             "#d8576b"
            ],
            [
             0.6666666666666666,
             "#ed7953"
            ],
            [
             0.7777777777777778,
             "#fb9f3a"
            ],
            [
             0.8888888888888888,
             "#fdca26"
            ],
            [
             1,
             "#f0f921"
            ]
           ]
          },
          "colorway": [
           "#636efa",
           "#EF553B",
           "#00cc96",
           "#ab63fa",
           "#FFA15A",
           "#19d3f3",
           "#FF6692",
           "#B6E880",
           "#FF97FF",
           "#FECB52"
          ],
          "font": {
           "color": "#2a3f5f"
          },
          "geo": {
           "bgcolor": "white",
           "lakecolor": "white",
           "landcolor": "#E5ECF6",
           "showlakes": true,
           "showland": true,
           "subunitcolor": "white"
          },
          "hoverlabel": {
           "align": "left"
          },
          "hovermode": "closest",
          "mapbox": {
           "style": "light"
          },
          "paper_bgcolor": "white",
          "plot_bgcolor": "#E5ECF6",
          "polar": {
           "angularaxis": {
            "gridcolor": "white",
            "linecolor": "white",
            "ticks": ""
           },
           "bgcolor": "#E5ECF6",
           "radialaxis": {
            "gridcolor": "white",
            "linecolor": "white",
            "ticks": ""
           }
          },
          "scene": {
           "xaxis": {
            "backgroundcolor": "#E5ECF6",
            "gridcolor": "white",
            "gridwidth": 2,
            "linecolor": "white",
            "showbackground": true,
            "ticks": "",
            "zerolinecolor": "white"
           },
           "yaxis": {
            "backgroundcolor": "#E5ECF6",
            "gridcolor": "white",
            "gridwidth": 2,
            "linecolor": "white",
            "showbackground": true,
            "ticks": "",
            "zerolinecolor": "white"
           },
           "zaxis": {
            "backgroundcolor": "#E5ECF6",
            "gridcolor": "white",
            "gridwidth": 2,
            "linecolor": "white",
            "showbackground": true,
            "ticks": "",
            "zerolinecolor": "white"
           }
          },
          "shapedefaults": {
           "line": {
            "color": "#2a3f5f"
           }
          },
          "ternary": {
           "aaxis": {
            "gridcolor": "white",
            "linecolor": "white",
            "ticks": ""
           },
           "baxis": {
            "gridcolor": "white",
            "linecolor": "white",
            "ticks": ""
           },
           "bgcolor": "#E5ECF6",
           "caxis": {
            "gridcolor": "white",
            "linecolor": "white",
            "ticks": ""
           }
          },
          "title": {
           "x": 0.05
          },
          "xaxis": {
           "automargin": true,
           "gridcolor": "white",
           "linecolor": "white",
           "ticks": "",
           "title": {
            "standoff": 15
           },
           "zerolinecolor": "white",
           "zerolinewidth": 2
          },
          "yaxis": {
           "automargin": true,
           "gridcolor": "white",
           "linecolor": "white",
           "ticks": "",
           "title": {
            "standoff": 15
           },
           "zerolinecolor": "white",
           "zerolinewidth": 2
          }
         }
        }
       }
      }
     },
     "metadata": {},
     "output_type": "display_data"
    }
   ],
   "source": [
    "plot_decays_scatter(df, skip=10)"
   ]
  },
  {
   "cell_type": "markdown",
   "metadata": {},
   "source": [
    "### Angle sampling"
   ]
  },
  {
   "cell_type": "code",
   "execution_count": 99,
   "metadata": {},
   "outputs": [
    {
     "data": {
      "image/png": "[encoded data removed]",
      "text/plain": [
       "<Figure size 640x480 with 1 Axes>"
      ]
     },
     "metadata": {},
     "output_type": "display_data"
    }
   ],
   "source": [
    "plt.bar(NuMI_angle_bins, NuMI_angle_dist/np.sum(NuMI_angle_dist), width=1, label=\"Flux file\")\n",
    "plt.hist(df['neutrino_angle'], histtype='step', bins = NuMI_angle_bins, color='orange', density=True, label=\"Reco flux\") # weights = df['w_event_rate']\n",
    "plt.yscale('log')\n",
    "plt.xlabel('Neutrino Angle (degrees)')\n",
    "plt.legend()\n",
    "plt.show()"
   ]
  },
  {
   "cell_type": "markdown",
   "metadata": {},
   "source": [
    "### Distance sampling"
   ]
  },
  {
   "cell_type": "code",
   "execution_count": 100,
   "metadata": {},
   "outputs": [],
   "source": [
    "scale_mc = len(df['distance'].values)/sum(df['w_event_rate'])\n",
    "scale_numi = np.sum(baseline_hist)\n",
    "\n",
    "factor = scale_mc/scale_numi"
   ]
  },
  {
   "cell_type": "code",
   "execution_count": 101,
   "metadata": {},
   "outputs": [
    {
     "data": {
      "text/plain": [
       "<matplotlib.legend.Legend at 0x162c4cb80>"
      ]
     },
     "execution_count": 101,
     "metadata": {},
     "output_type": "execute_result"
    },
    {
     "data": {
      "image/png": "[encoded data removed]",
      "text/plain": [
       "<Figure size 640x480 with 1 Axes>"
      ]
     },
     "metadata": {},
     "output_type": "display_data"
    }
   ],
   "source": [
    "baseline_centres = (baseline_bins[1:] + baseline_bins[:-1]) / 2 * 100\n",
    "plt.bar(baseline_centres, baseline_hist*factor, width=200, label=\"Flux file\")\n",
    "\n",
    "scale_mc = len(df['distance'].values)\n",
    "scale_numi = np.sum(baseline_hist)\n",
    "\n",
    "plt.hist(df['distance'].values, histtype='step', bins=baseline_centres, color='orange', density=True, weights = df['w_event_rate'], label=\"Reco flux\") #, )\n",
    "plt.yscale('log')\n",
    "plt.xlabel('Distance (cm)')\n",
    "plt.legend()"
   ]
  },
  {
   "cell_type": "markdown",
   "metadata": {},
   "source": [
    "<!-- ## Printing these particles into a LArSoft-readable format -->"
   ]
  },
  {
   "cell_type": "code",
   "execution_count": 102,
   "metadata": {},
   "outputs": [
    {
     "name": "stdout",
     "output_type": "stream",
     "text": [
      "WARNING: HEPevt is not a lossless format -- you will lose the event weights. If you want to force-print weights, use the hepevt_legacy format instead. Otherwise, please set hep_unweight=True and set the desired number of unweighted events.\n",
      "WARNING::WriterHEPEVT::WriterHEPEVT: HEPEVT format is outdated. Please use HepMC3 format instead.\n"
     ]
    }
   ],
   "source": [
    "print = False\n",
    "if print:\n",
    "    printer = dn.printer.Printer(df, data_path='./output_files/NuMI')\n",
    "    # printing a file in hepevt format\n",
    "    printer.print_events_to_hepevt()\n",
    "    # printing a file in hepmc3 format\n",
    "    printer.print_events_to_hepmc3()\n",
    "    # printing a file in hepevt legacy format\n",
    "    # this format retains event weight!\n",
    "    printer.print_events_to_hepevt_legacy()"
   ]
  },
  {
   "cell_type": "code",
   "execution_count": null,
   "metadata": {},
   "outputs": [],
   "source": []
  }
 ],
 "metadata": {
  "kernelspec": {
   "display_name": "DarkNews_clean",
   "language": "python",
   "name": "python3"
  },
  "language_info": {
   "codemirror_mode": {
    "name": "ipython",
    "version": 3
   },
   "file_extension": ".py",
   "mimetype": "text/x-python",
   "name": "python",
   "nbconvert_exporter": "python",
   "pygments_lexer": "ipython3",
   "version": "3.10.15"
  }
 },
 "nbformat": 4,
 "nbformat_minor": 2
}
